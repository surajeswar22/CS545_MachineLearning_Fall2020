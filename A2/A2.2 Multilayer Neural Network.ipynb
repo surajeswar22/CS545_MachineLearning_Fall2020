








<!DOCTYPE html>
<html lang="en">

<head>
  <meta charset="utf-8">
  <title>Jupyter Notebook Viewer</title>
  <meta name="viewport" content="width=device-width, initial-scale=1.0">
  <meta name="description" content="">
  <meta name="author" content="">
  
  <meta name="robots" content="noindex,nofollow">
  

  <!--NEW RELIC Start Perf Measurement-->
  
  <!--NREND-->

  <!-- Le styles -->
  <link href="/static/build/styles.css" rel="stylesheet">

  <!-- Le HTML5 shim, for IE6-8 support of HTML5 elements -->
  <!--[if lt IE 9]>
    <script src="http://html5shim.googlecode.com/svn/trunk/html5.js"></script>
  <![endif]-->

  <!-- Le fav and touch icons -->
  <link rel="shortcut icon" href="/static/ico/ipynb_icon_16x16.png">
  <link rel="apple-touch-icon-precomposed" sizes="144x144"
        href="/static/ico/apple-touch-icon-144-precomposed.png">
  <link rel="apple-touch-icon-precomposed" sizes="114x114"
        href="/static/ico/apple-touch-icon-114-precomposed.png">
  <link rel="apple-touch-icon-precomposed" sizes="72x72"
        href="/static/ico/apple-touch-icon-72-precomposed.png">
  <link rel="apple-touch-icon-precomposed"
        href="/static/ico/apple-touch-icon-57-precomposed.png">
  
  

  

  
  <meta name="twitter:card" content="summary">
  <meta name="twitter:title" content="Notebook on nbviewer">
  <meta name="twitter:description" content="Check out this Jupyter notebook!">

  
  <meta name="twitter:domain" content="nbviewer.jupyter.org">
  <meta name="twitter:image:src" content="http://ipython.org/ipython-doc/dev/_images/ipynb_icon_128x128.png">

  
    <link href="/static/build/notebook.css" rel="stylesheet">
  

  

  
    <script src="https://cdnjs.cloudflare.com/ajax/libs/mathjax/2.7.1/MathJax.js?config=TeX-AMS_HTML" type="text/javascript">
    </script>
    <script type="text/javascript">
      init_mathjax = function() {
        if (window.MathJax) {
          // MathJax loaded
          MathJax.Hub.Config({
            TeX: {
              equationNumbers: {
                autoNumber: "AMS",
                useLabelIds: true
              }
            },
            tex2jax: {
              inlineMath: [ ['$','$'], ["\\(","\\)"] ],
              displayMath: [ ['$$','$$'], ["\\[","\\]"] ],
              processEscapes: true,
              processEnvironments: true
            },
            displayAlign: 'center',
            "HTML-CSS": {
              styles: {'.MathJax_Display': {"margin": 0}},
              linebreaks: { automatic: true }
            }
          });
          MathJax.Hub.Queue(["Typeset", MathJax.Hub]);
        }
      }
      init_mathjax();
    </script>
  

  
    <script>
      (function() {
        function addWidgetsRenderer() {
          var mimeElement = document.querySelector('script[type="application/vnd.jupyter.widget-view+json"]');
          var scriptElement = document.createElement('script');
          var widgetRendererSrc = 'https://unpkg.com/@jupyter-widgets/html-manager@0.15/dist/embed-amd.js';
          var widgetState;

          try {
            widgetState = mimeElement && JSON.parse(mimeElement.innerHTML);

            if (widgetState && (widgetState.version_major < 2 || !widgetState.version_major)) {
              widgetRendererSrc = 'https://unpkg.com/jupyter-js-widgets@2.1/dist/embed.js';
            }
          } catch(e) {}

          scriptElement.src = widgetRendererSrc;
          document.body.appendChild(scriptElement);
        }

        document.addEventListener('DOMContentLoaded', addWidgetsRenderer);
      }());
    </script>
  

</head>

<body class="nbviewer">

  <!-- These are loaded at the top of the body so they are available to
       notebook cells when they are loaded below. -->
  <script src="/static/components/jquery/dist/jquery.min.js"></script>
  <script src="/static/components/requirejs/require.js"></script>
  <script src="/static/components/moment/min/moment.min.js"></script>
<!-- Navbar
================================================== -->
  <nav id="menubar" class="navbar navbar-default navbar-fixed-top" data-spy="affix">
    <div class="container">
      <div class="navbar-header">
        <button type="button" class="navbar-toggle collapsed" data-toggle="collapse" data-target=".navbar-collapse">
          <span class="sr-only">Toggle navigation</span>
          <i class="fa fa-bars"></i>
        </button>
        <a class="navbar-brand" href="/">
          <img src="/static/img/nav_logo.svg" width="159"/>
        </a>
      </div>

      <div class="collapse navbar-collapse">
        <ul class="nav navbar-nav navbar-right">
          <li>
            <a class="active" href="https://jupyter.org">JUPYTER</a>
          </li>
          <li>
    <a href="/faq" title="FAQ" >
      
        <span>FAQ</span>
      
    </a>
  </li>

          
  
    
  
    
      
        <li>
    <a href="script/url/www.cs.colostate.edu/~anderson/cs545/notebooks/A2.2%20Multilayer%20Neural%20Network.ipynb" title="View as Code" >
      <span class="fa fa-code fa-2x menu-icon"></span>
      <span class="menu-text">View as Code</span>
    </a>
  </li>
      
    
  

  
    <li>
    <a href="#" title="Python 3 Kernel" >
      <span class="fa fa-server fa-2x menu-icon"></span>
      <span class="menu-text">Python 3 Kernel</span>
    </a>
  </li>
  

  

  

  <li>
    <a href="http://www.cs.colostate.edu/~anderson/cs545/notebooks/A2.2%20Multilayer%20Neural%20Network.ipynb" title="Download Notebook" download>
      <span class="fa fa-download fa-2x menu-icon"></span>
      <span class="menu-text">Download Notebook</span>
    </a>
  </li>

        </ul>
      </div><!-- /.navbar-collapse -->
      
      
    </div>
  </nav>

  <div class="container container-main">
    
  
  <div id="notebook">
    <div id="notebook-container">
      <div class="cell border-box-sizing text_cell rendered"><div class="prompt input_prompt">
</div><div class="inner_cell">
<div class="text_cell_render border-box-sizing rendered_html">
<p><h1>Table of Contents<span class="tocSkip"></span></h1></p>
<div class="toc"><ul class="toc-item"><li><span><a href="#A2.2-Multilayered-Neural-Network" data-toc-modified-id="A2.2-Multilayered-Neural-Network-1"><span class="toc-item-num">1&nbsp;&nbsp;</span>A2.2 Multilayered Neural Network</a></span><ul class="toc-item"><li><span><a href="#Required-Part-One" data-toc-modified-id="Required-Part-One-1.1"><span class="toc-item-num">1.1&nbsp;&nbsp;</span>Required Part One</a></span></li><li><span><a href="#Required-Part-Two" data-toc-modified-id="Required-Part-Two-1.2"><span class="toc-item-num">1.2&nbsp;&nbsp;</span>Required Part Two</a></span></li></ul></li><li><span><a href="#Grading" data-toc-modified-id="Grading-2"><span class="toc-item-num">2&nbsp;&nbsp;</span>Grading</a></span></li><li><span><a href="#Check-In" data-toc-modified-id="Check-In-3"><span class="toc-item-num">3&nbsp;&nbsp;</span>Check-In</a></span></li><li><span><a href="#Extra-Credit" data-toc-modified-id="Extra-Credit-4"><span class="toc-item-num">4&nbsp;&nbsp;</span>Extra Credit</a></span></li></ul></div>
</div>
</div>
</div>
<div class="cell border-box-sizing text_cell rendered"><div class="prompt input_prompt">
</div><div class="inner_cell">
<div class="text_cell_render border-box-sizing rendered_html">
<h1 id="A2.2-Multilayered-Neural-Network">A2.2 Multilayered Neural Network<a class="anchor-link" href="#A2.2-Multilayered-Neural-Network">&#182;</a></h1><ul>
<li>2.2: <em>Added example output in Section 1.1.</em></li>
<li>2.1: <em>Added A2grader.tar and details on how to rename the functions for the use of the asymmetric sigmoid activation function.</em></li>
</ul>

</div>
</div>
</div>
<div class="cell border-box-sizing text_cell rendered"><div class="prompt input_prompt">
</div><div class="inner_cell">
<div class="text_cell_render border-box-sizing rendered_html">
<p>You will implement a set of functions for training and testing a multilayered neural network to predict continuous-valued target values.  This assignment provides an implementation of the functions for a neural network with one hidden layer.  You must modify the functions to allow any number of hidden layers, each with any number of units.</p>
<p>The required functions are:</p>
<ul>
<li><code>add_ones(X)</code>: Given an $N \times D$ matrix of inputs, prepend column of 1's and return the resulting $N \times D+1$ matrix.</li>
<li><code>make_weights(n_inputs, n_hiddens, n_outputs):</code> Given integers <code>n_inputs</code>, <code>n_hiddens</code> and <code>n_outputs</code>, create weight matrices <code>V</code> for the hidden layer and <code>W</code> for the output layer.</li>
<li><code>forward(Xst, V, W)</code>: Given standardized input matrix <code>Xst</code> and weight matrices <code>V</code> and <code>W</code>, calculate the output of all layers and return the outputs of the hidden layer, <code>Z</code> as an $N \times H$ matrix, where $H$ is the number of hidden units, and the outputs of the output layer <code>Y</code> as an $N \times K$ matrix, where $K$ is the number of output values for each sample. </li>
<li><code>backward(Xst, Tst, V, W)</code>: Given standardized input matrix <code>Xst</code>, standardized target matrix <code>Tst</code>, and weight matrices <code>V</code> and <code>W</code>,, calculate the gradient of the mean squared error with respect to the weights <code>V</code> and <code>W</code>, returning a tuple of both gradients, with respect to <code>V</code> as the first element and with respect to <code>W</code> as the second element.</li>
<li><code>train_sgd(X, T, V, W, learning_rate, n_epochs):</code> Given input and target matrices <code>X</code> and <code>T</code>, weight matrices <code>V</code> and <code>W</code>, a learning_rate and the number of epochs to train, update the weights for <code>n_epochs</code> iterations using the gradient of the mean squared over the whole data set in <code>X</code> and <code>T</code>  and return the resulting new weight matrices <code>V</code> and <code>W</code>, the standardization parameters, and the list of RMSE training errors, one per epoch.</li>
<li><code>use(X, V, W, stand_parms):</code> Calculate outputs of both layers after standardizing input <code>X</code>. Return outputs of hidden layer, and unstandardized output of output layer.</li>
<li><code>rmse(Y, T):</code> Return the RMSE between <code>Y</code> and <code>T</code>, both of which are not standardized.</li>
<li><code>calc_standardize_parameters(X, T)</code>: calculate and return as a dictionary the column means and standard deviations of <code>X</code> and <code>T</code>.</li>
<li><code>standardize_X(X, stand_parms)</code>: return standardized <code>X</code>.</li>
<li><code>standardize_T(T, stand_parms)</code>: return standardized <code>T</code>.</li>
<li><code>unstandardize_X(Xst, stand_parms)</code>: return unstandardized <code>X</code> (probably not needed).</li>
<li><code>unstandardize_T(Tst, stand_parms)</code>: return unstandardized <code>T</code>, will be needed by <code>use</code>.</li>
</ul>

</div>
</div>
</div>
<div class="cell border-box-sizing code_cell rendered">
<div class="input">
<div class="prompt input_prompt">In&nbsp;[1]:</div>
<div class="inner_cell">
    <div class="input_area">
<div class=" highlight hl-ipython3"><pre><span></span><span class="kn">import</span> <span class="nn">numpy</span> <span class="k">as</span> <span class="nn">np</span>
<span class="kn">import</span> <span class="nn">matplotlib.pyplot</span> <span class="k">as</span> <span class="nn">plt</span>
</pre></div>

    </div>
</div>
</div>

</div>
<div class="cell border-box-sizing code_cell rendered">
<div class="input">
<div class="prompt input_prompt">In&nbsp;[2]:</div>
<div class="inner_cell">
    <div class="input_area">
<div class=" highlight hl-ipython3"><pre><span></span><span class="k">def</span> <span class="nf">add_ones</span><span class="p">(</span><span class="n">X</span><span class="p">):</span>
    <span class="k">return</span> <span class="n">np</span><span class="o">.</span><span class="n">insert</span><span class="p">(</span><span class="n">X</span><span class="p">,</span> <span class="mi">0</span><span class="p">,</span> <span class="mi">1</span><span class="p">,</span> <span class="n">axis</span><span class="o">=</span><span class="mi">1</span><span class="p">)</span>

<span class="k">def</span> <span class="nf">make_weights</span><span class="p">(</span><span class="n">n_inputs</span><span class="p">,</span> <span class="n">n_hiddens</span><span class="p">,</span> <span class="n">n_outputs</span><span class="p">):</span>
    <span class="c1"># Create and return weight matrices, V and W, for the hidden and output layers.</span>
    <span class="c1"># Initialize them to uniformly-distribted random values between -sqrt(n_in) and +sqrt(n_in)</span>
    <span class="n">V</span> <span class="o">=</span> <span class="n">np</span><span class="o">.</span><span class="n">random</span><span class="o">.</span><span class="n">uniform</span><span class="p">(</span><span class="o">-</span><span class="mi">1</span><span class="p">,</span> <span class="mi">1</span><span class="p">,</span> <span class="n">size</span><span class="o">=</span><span class="p">(</span><span class="mi">1</span> <span class="o">+</span> <span class="n">n_inputs</span><span class="p">,</span> <span class="n">n_hiddens</span><span class="p">))</span> <span class="o">/</span> <span class="n">np</span><span class="o">.</span><span class="n">sqrt</span><span class="p">(</span><span class="n">n_inputs</span> <span class="o">+</span> <span class="mi">1</span><span class="p">)</span>
    <span class="n">W</span> <span class="o">=</span> <span class="n">np</span><span class="o">.</span><span class="n">random</span><span class="o">.</span><span class="n">uniform</span><span class="p">(</span><span class="o">-</span><span class="mi">1</span><span class="p">,</span> <span class="mi">1</span><span class="p">,</span> <span class="n">size</span><span class="o">=</span><span class="p">(</span><span class="mi">1</span> <span class="o">+</span> <span class="n">n_hiddens</span><span class="p">,</span> <span class="n">n_outputs</span><span class="p">))</span> <span class="o">/</span> <span class="n">np</span><span class="o">.</span><span class="n">sqrt</span><span class="p">(</span><span class="n">n_hiddens</span> <span class="o">+</span> <span class="mi">1</span><span class="p">)</span>
    <span class="k">return</span> <span class="n">V</span><span class="p">,</span> <span class="n">W</span>

<span class="k">def</span> <span class="nf">forward</span><span class="p">(</span><span class="n">Xst</span><span class="p">,</span> <span class="n">V</span><span class="p">,</span> <span class="n">W</span><span class="p">):</span>
    <span class="c1"># Calculate the outputs, Z, of all hidden units, given all input samples in X.</span>
    <span class="n">Z</span> <span class="o">=</span> <span class="n">np</span><span class="o">.</span><span class="n">tanh</span><span class="p">(</span><span class="n">add_ones</span><span class="p">(</span><span class="n">Xst</span><span class="p">)</span> <span class="o">@</span> <span class="n">V</span><span class="p">)</span>
    <span class="c1"># Calculate the outputs, Y, of all output units, given all outputs of the hidden units.</span>
    <span class="n">Yst</span> <span class="o">=</span> <span class="n">add_ones</span><span class="p">(</span><span class="n">Z</span><span class="p">)</span> <span class="o">@</span> <span class="n">W</span>
    <span class="k">return</span> <span class="n">Z</span><span class="p">,</span> <span class="n">Yst</span>

<span class="k">def</span> <span class="nf">backward</span><span class="p">(</span><span class="n">Xst</span><span class="p">,</span> <span class="n">Tst</span><span class="p">,</span> <span class="n">V</span><span class="p">,</span> <span class="n">W</span><span class="p">):</span>
    <span class="n">n_samples</span> <span class="o">=</span> <span class="n">Xst</span><span class="o">.</span><span class="n">shape</span><span class="p">[</span><span class="mi">0</span><span class="p">]</span>
    <span class="n">n_outputs</span> <span class="o">=</span> <span class="n">Tst</span><span class="o">.</span><span class="n">shape</span><span class="p">[</span><span class="mi">1</span><span class="p">]</span>
    <span class="c1"># Calculate the outputs of both layers.</span>
    <span class="n">Z</span><span class="p">,</span> <span class="n">Yst</span> <span class="o">=</span> <span class="n">forward</span><span class="p">(</span><span class="n">Xst</span><span class="p">,</span> <span class="n">V</span><span class="p">,</span> <span class="n">W</span><span class="p">)</span>
    <span class="c1"># Calculate the delta value for the output layer. Divide by n_samples * n_outputs</span>
    <span class="c1"># because we are calculating the gradient of the mean sqauared error with respect to weights.</span>
    <span class="n">delta</span> <span class="o">=</span> <span class="o">-</span><span class="p">(</span><span class="n">Tst</span> <span class="o">-</span> <span class="n">Yst</span><span class="p">)</span> <span class="o">/</span>  <span class="p">(</span><span class="n">n_samples</span> <span class="o">*</span> <span class="n">n_outputs</span><span class="p">)</span>
    <span class="c1"># The gradient of the mean squared error with respect to the output layer weights W.</span>
    <span class="n">gradient_W</span> <span class="o">=</span> <span class="n">add_ones</span><span class="p">(</span><span class="n">Z</span><span class="p">)</span><span class="o">.</span><span class="n">T</span> <span class="o">@</span> <span class="n">delta</span>
    <span class="c1"># Back-propagate the delta value from the output layer, through the output layer weights,</span>
    <span class="c1"># to the hidden units.  Multiply the result by the derivative of the hidden units&#39;</span>
    <span class="c1"># activation function, tanh</span>
    <span class="n">delta</span> <span class="o">=</span> <span class="p">(</span><span class="n">delta</span> <span class="o">@</span> <span class="n">W</span><span class="p">[</span><span class="mi">1</span><span class="p">:,</span> <span class="p">:]</span><span class="o">.</span><span class="n">T</span><span class="p">)</span> <span class="o">*</span> <span class="p">(</span><span class="mi">1</span> <span class="o">-</span> <span class="n">Z</span> <span class="o">**</span> <span class="mi">2</span><span class="p">)</span>
    <span class="c1"># The gradient of the mean squared error with respect to the hidden layer weights, V.</span>
    <span class="n">gradient_V</span> <span class="o">=</span> <span class="n">add_ones</span><span class="p">(</span><span class="n">Xst</span><span class="p">)</span><span class="o">.</span><span class="n">T</span> <span class="o">@</span> <span class="n">delta</span>
    <span class="c1"># Return both gradients.  Each should be the same shape as the respective weight matrices.</span>
    <span class="k">return</span> <span class="n">gradient_V</span><span class="p">,</span> <span class="n">gradient_W</span>

<span class="k">def</span> <span class="nf">train_sgd</span><span class="p">(</span><span class="n">X</span><span class="p">,</span> <span class="n">T</span><span class="p">,</span> <span class="n">V</span><span class="p">,</span> <span class="n">W</span><span class="p">,</span> <span class="n">learning_rate</span><span class="p">,</span> <span class="n">n_epochs</span><span class="p">):</span>
    <span class="c1"># Store standardization parameters in dictionary stand_parms.</span>
    <span class="n">stand_parms</span> <span class="o">=</span> <span class="n">calc_standardize_parameters</span><span class="p">(</span><span class="n">X</span><span class="p">,</span> <span class="n">T</span><span class="p">)</span>
    <span class="c1"># Standardize X and T.</span>
    <span class="n">Xst</span> <span class="o">=</span> <span class="n">standardize_X</span><span class="p">(</span><span class="n">X</span><span class="p">,</span> <span class="n">stand_parms</span><span class="p">)</span>
    <span class="n">Tst</span> <span class="o">=</span> <span class="n">standardize_T</span><span class="p">(</span><span class="n">T</span><span class="p">,</span> <span class="n">stand_parms</span><span class="p">)</span>

    <span class="n">error_trace</span> <span class="o">=</span> <span class="p">[]</span>

    <span class="c1"># Update weights for n_epochs passes through the training data</span>
    <span class="k">for</span> <span class="n">epoch</span> <span class="ow">in</span> <span class="nb">range</span><span class="p">(</span><span class="n">n_epochs</span><span class="p">):</span>

        <span class="c1"># Calculate the gradients of the mean squared error with respect to each weight matrix.</span>
        <span class="n">gradient_V</span><span class="p">,</span> <span class="n">gradient_W</span> <span class="o">=</span> <span class="n">backward</span><span class="p">(</span><span class="n">Xst</span><span class="p">,</span> <span class="n">Tst</span><span class="p">,</span> <span class="n">V</span><span class="p">,</span> <span class="n">W</span><span class="p">)</span>

        <span class="c1"># Update the values in each weight matrix using SGD.</span>
        <span class="n">V</span> <span class="o">-=</span> <span class="n">learning_rate</span> <span class="o">*</span> <span class="n">gradient_V</span>
        <span class="n">W</span> <span class="o">-=</span> <span class="n">learning_rate</span> <span class="o">*</span> <span class="n">gradient_W</span>

        <span class="c1"># Calculate the outputs of both layers given the current weight values.</span>
        <span class="n">_</span><span class="p">,</span> <span class="n">Yst</span> <span class="o">=</span> <span class="n">forward</span><span class="p">(</span><span class="n">Xst</span><span class="p">,</span> <span class="n">V</span><span class="p">,</span> <span class="n">W</span><span class="p">)</span>
        <span class="n">Y</span> <span class="o">=</span> <span class="n">unstandardize_T</span><span class="p">(</span><span class="n">Yst</span><span class="p">,</span> <span class="n">stand_parms</span><span class="p">)</span>
        <span class="n">error_trace</span><span class="o">.</span><span class="n">append</span><span class="p">(</span><span class="n">rmse</span><span class="p">(</span><span class="n">Y</span><span class="p">,</span> <span class="n">T</span><span class="p">))</span>

    <span class="k">return</span> <span class="n">V</span><span class="p">,</span> <span class="n">W</span><span class="p">,</span> <span class="n">stand_parms</span><span class="p">,</span> <span class="n">error_trace</span>

<span class="k">def</span> <span class="nf">use</span><span class="p">(</span><span class="n">X</span><span class="p">,</span> <span class="n">V</span><span class="p">,</span> <span class="n">W</span><span class="p">,</span> <span class="n">stand_parms</span><span class="p">):</span>
    <span class="c1"># Standardize inputs X</span>
    <span class="n">Xst</span> <span class="o">=</span> <span class="n">standardize_X</span><span class="p">(</span><span class="n">X</span><span class="p">,</span> <span class="n">stand_parms</span><span class="p">)</span>
    <span class="c1"># Calculate outputs of each layer.</span>
    <span class="n">Z</span><span class="p">,</span> <span class="n">Yst</span> <span class="o">=</span> <span class="n">forward</span><span class="p">(</span><span class="n">Xst</span><span class="p">,</span> <span class="n">V</span><span class="p">,</span> <span class="n">W</span><span class="p">)</span>
    <span class="c1"># Unstandardize output of output layer</span>
    <span class="k">return</span> <span class="n">Z</span><span class="p">,</span> <span class="n">unstandardize_T</span><span class="p">(</span><span class="n">Yst</span><span class="p">,</span> <span class="n">stand_parms</span><span class="p">)</span>

<span class="k">def</span> <span class="nf">rmse</span><span class="p">(</span><span class="n">Y</span><span class="p">,</span> <span class="n">T</span><span class="p">):</span>
    <span class="n">error</span> <span class="o">=</span> <span class="n">T</span> <span class="o">-</span> <span class="n">Y</span>
    <span class="k">return</span> <span class="n">np</span><span class="o">.</span><span class="n">sqrt</span><span class="p">(</span><span class="n">np</span><span class="o">.</span><span class="n">mean</span><span class="p">(</span><span class="n">error</span> <span class="o">**</span> <span class="mi">2</span><span class="p">))</span>
</pre></div>

    </div>
</div>
</div>

</div>
<div class="cell border-box-sizing code_cell rendered">
<div class="input">
<div class="prompt input_prompt">In&nbsp;[19]:</div>
<div class="inner_cell">
    <div class="input_area">
<div class=" highlight hl-ipython3"><pre><span></span><span class="k">def</span> <span class="nf">calc_standardize_parameters</span><span class="p">(</span><span class="n">X</span><span class="p">,</span> <span class="n">T</span><span class="p">):</span>
    <span class="n">Xmeans</span> <span class="o">=</span> <span class="n">X</span><span class="o">.</span><span class="n">mean</span><span class="p">(</span><span class="n">axis</span><span class="o">=</span><span class="mi">0</span><span class="p">)</span>
    <span class="n">Xstds</span> <span class="o">=</span> <span class="n">X</span><span class="o">.</span><span class="n">std</span><span class="p">(</span><span class="n">axis</span><span class="o">=</span><span class="mi">0</span><span class="p">)</span>
    <span class="n">Tmeans</span> <span class="o">=</span> <span class="n">T</span><span class="o">.</span><span class="n">mean</span><span class="p">(</span><span class="n">axis</span><span class="o">=</span><span class="mi">0</span><span class="p">)</span>
    <span class="n">Tstds</span> <span class="o">=</span> <span class="n">T</span><span class="o">.</span><span class="n">std</span><span class="p">(</span><span class="n">axis</span><span class="o">=</span><span class="mi">0</span><span class="p">)</span>
    <span class="k">return</span> <span class="p">{</span><span class="s1">&#39;Xmeans&#39;</span><span class="p">:</span> <span class="n">Xmeans</span><span class="p">,</span> <span class="s1">&#39;Xstds&#39;</span><span class="p">:</span> <span class="n">Xstds</span><span class="p">,</span>
            <span class="s1">&#39;Tmeans&#39;</span><span class="p">:</span> <span class="n">Tmeans</span><span class="p">,</span> <span class="s1">&#39;Tstds&#39;</span><span class="p">:</span> <span class="n">Tstds</span><span class="p">}</span>

<span class="k">def</span> <span class="nf">standardize_X</span><span class="p">(</span><span class="n">X</span><span class="p">,</span> <span class="n">stand_parms</span><span class="p">):</span>
    <span class="k">return</span> <span class="p">(</span><span class="n">X</span> <span class="o">-</span> <span class="n">stand_parms</span><span class="p">[</span><span class="s1">&#39;Xmeans&#39;</span><span class="p">])</span> <span class="o">/</span> <span class="n">stand_parms</span><span class="p">[</span><span class="s1">&#39;Xstds&#39;</span><span class="p">]</span>


<span class="k">def</span> <span class="nf">unstandardize_X</span><span class="p">(</span><span class="n">Xst</span><span class="p">,</span> <span class="n">stand_parms</span><span class="p">):</span>
    <span class="k">return</span> <span class="n">Xst</span> <span class="o">*</span> <span class="n">stand_parms</span><span class="p">[</span><span class="s1">&#39;Xstds&#39;</span><span class="p">]</span> <span class="o">+</span> <span class="n">stand_parms</span><span class="p">[</span><span class="s1">&#39;Xmeans&#39;</span><span class="p">]</span>


<span class="k">def</span> <span class="nf">standardize_T</span><span class="p">(</span><span class="n">T</span><span class="p">,</span> <span class="n">stand_parms</span><span class="p">):</span>
    <span class="k">return</span> <span class="p">(</span><span class="n">T</span> <span class="o">-</span> <span class="n">stand_parms</span><span class="p">[</span><span class="s1">&#39;Tmeans&#39;</span><span class="p">])</span> <span class="o">/</span> <span class="n">stand_parms</span><span class="p">[</span><span class="s1">&#39;Tstds&#39;</span><span class="p">]</span>


<span class="k">def</span> <span class="nf">unstandardize_T</span><span class="p">(</span><span class="n">Tst</span><span class="p">,</span> <span class="n">stand_parms</span><span class="p">):</span>
    <span class="k">return</span> <span class="n">Tst</span> <span class="o">*</span> <span class="n">stand_parms</span><span class="p">[</span><span class="s1">&#39;Tstds&#39;</span><span class="p">]</span> <span class="o">+</span> <span class="n">stand_parms</span><span class="p">[</span><span class="s1">&#39;Tmeans&#39;</span><span class="p">]</span>
</pre></div>

    </div>
</div>
</div>

</div>
<div class="cell border-box-sizing text_cell rendered"><div class="prompt input_prompt">
</div><div class="inner_cell">
<div class="text_cell_render border-box-sizing rendered_html">
<p>Here is a test of the functions.  We fit a neural network to simple one-dimensional data.</p>

</div>
</div>
</div>
<div class="cell border-box-sizing code_cell rendered">
<div class="input">
<div class="prompt input_prompt">In&nbsp;[4]:</div>
<div class="inner_cell">
    <div class="input_area">
<div class=" highlight hl-ipython3"><pre><span></span><span class="n">n_samples</span> <span class="o">=</span> <span class="mi">30</span>

<span class="n">Xtrain</span> <span class="o">=</span> <span class="n">np</span><span class="o">.</span><span class="n">linspace</span><span class="p">(</span><span class="mf">0.</span><span class="p">,</span> <span class="mf">20.0</span><span class="p">,</span> <span class="n">n_samples</span><span class="p">)</span><span class="o">.</span><span class="n">reshape</span><span class="p">((</span><span class="n">n_samples</span><span class="p">,</span> <span class="mi">1</span><span class="p">))</span>
<span class="n">Ttrain</span> <span class="o">=</span> <span class="mf">0.2</span> <span class="o">+</span> <span class="mf">0.05</span> <span class="o">*</span> <span class="p">(</span><span class="n">Xtrain</span><span class="p">)</span> <span class="o">+</span> <span class="mf">0.4</span> <span class="o">*</span> <span class="n">np</span><span class="o">.</span><span class="n">sin</span><span class="p">(</span><span class="n">Xtrain</span> <span class="o">/</span> <span class="mi">2</span><span class="p">)</span> <span class="o">+</span> <span class="mf">0.2</span> <span class="o">*</span> <span class="n">np</span><span class="o">.</span><span class="n">random</span><span class="o">.</span><span class="n">normal</span><span class="p">(</span><span class="n">size</span><span class="o">=</span><span class="p">(</span><span class="n">n_samples</span><span class="p">,</span> <span class="mi">1</span><span class="p">))</span>

<span class="n">Xtest</span> <span class="o">=</span> <span class="n">Xtrain</span> <span class="o">+</span> <span class="mf">0.1</span> <span class="o">*</span> <span class="n">np</span><span class="o">.</span><span class="n">random</span><span class="o">.</span><span class="n">normal</span><span class="p">(</span><span class="n">size</span><span class="o">=</span><span class="p">(</span><span class="n">n_samples</span><span class="p">,</span> <span class="mi">1</span><span class="p">))</span>
<span class="n">Ttest</span> <span class="o">=</span> <span class="mf">0.2</span> <span class="o">+</span> <span class="mf">0.05</span> <span class="o">*</span> <span class="p">(</span><span class="n">Xtest</span><span class="p">)</span> <span class="o">+</span> <span class="mf">0.4</span> <span class="o">*</span> <span class="n">np</span><span class="o">.</span><span class="n">sin</span><span class="p">(</span><span class="n">Xtest</span> <span class="o">/</span> <span class="mi">2</span><span class="p">)</span> <span class="o">+</span> <span class="mf">0.2</span> <span class="o">*</span> <span class="n">np</span><span class="o">.</span><span class="n">random</span><span class="o">.</span><span class="n">normal</span><span class="p">(</span><span class="n">size</span><span class="o">=</span><span class="p">(</span><span class="n">n_samples</span><span class="p">,</span> <span class="mi">1</span><span class="p">))</span>
</pre></div>

    </div>
</div>
</div>

</div>
<div class="cell border-box-sizing code_cell rendered">
<div class="input">
<div class="prompt input_prompt">In&nbsp;[5]:</div>
<div class="inner_cell">
    <div class="input_area">
<div class=" highlight hl-ipython3"><pre><span></span><span class="n">plt</span><span class="o">.</span><span class="n">plot</span><span class="p">(</span><span class="n">Xtrain</span><span class="p">,</span> <span class="n">Ttrain</span><span class="p">,</span> <span class="s1">&#39;o&#39;</span><span class="p">,</span> <span class="n">label</span><span class="o">=</span><span class="s1">&#39;Train&#39;</span><span class="p">)</span>
<span class="n">plt</span><span class="o">.</span><span class="n">plot</span><span class="p">(</span><span class="n">Xtest</span><span class="p">,</span> <span class="n">Ttest</span><span class="p">,</span> <span class="s1">&#39;o&#39;</span><span class="p">,</span> <span class="n">label</span><span class="o">=</span><span class="s1">&#39;Test&#39;</span><span class="p">)</span>
<span class="n">plt</span><span class="o">.</span><span class="n">legend</span><span class="p">();</span>
</pre></div>

    </div>
</div>
</div>

<div class="output_wrapper">
<div class="output">


<div class="output_area">

    <div class="prompt"></div>




<div class="output_png output_subarea ">
<img src="data:image/png;base64,iVBORw0KGgoAAAANSUhEUgAAAXoAAAD4CAYAAADiry33AAAAOXRFWHRTb2Z0d2FyZQBNYXRwbG90bGliIHZlcnNpb24zLjMuMSwgaHR0cHM6Ly9tYXRwbG90bGliLm9yZy/d3fzzAAAACXBIWXMAAAsTAAALEwEAmpwYAAAg4ElEQVR4nO3df5BU5b3n8feXYYDxRzEbwCgzJJAUoaKCYKZIAm6UsAY1GrjWDSHX3JibWBTuVVdTIUBS4VKmauVK7XqLGxOWdanE3XtjSCKIqwajxkuM8coQcAB1lGu8xQxGcRJGWccwM3z3jz4tTU/3zOmZ7j59zvm8qqam+znndD9zuufbTz/n+zyPuTsiIpJco6KugIiIVJYCvYhIwinQi4gknAK9iEjCKdCLiCTc6KgrUMjEiRN96tSpUVdDRCQ29uzZ86a7Tyq0rSYD/dSpU2ltbY26GiIisWFm/15sm7puREQSToFeRCThFOhFRBKuJvvoC+nt7aWjo4N333036qpU3Lhx42hubqa+vj7qqohIAsQm0Hd0dHD22WczdepUzCzq6lSMu9PV1UVHRwfTpk2LujoikgCx6bp59913mTBhQqKDPICZMWHChFR8cxGpKW1b4a4LYV1j5nfb1qhrVDaxadEDiQ/yWWn5O0VqRttWePAW6O3J3O8+nLkPMGtpdPUqk9i06EVEKubx208F+azenkx5AijQh9DV1cXs2bOZPXs25557Lk1NTe/dP3HixKDHtra2csstt1SppiIyLN0dpZXHTKy6bkqxfW8nG3a2c+RYD5MbG1i5aAZL5jQN67EmTJjAvn37AFi3bh1nnXUW3/jGN97b3tfXx+jRhU9lS0sLLS0tw3peEamS8c2Z7ppC5QmQyBb99r2drLl/P53HenCg81gPa+7fz/a9nWV7jq985St8/etfZ8GCBaxatYpnn32WefPmMWfOHObNm0d7ezsATz75JFdffTWQ+ZD46le/ymWXXcaHPvQhNm7cWLb6iMgILFwL9Q2nl9U3ZMoTIJEt+g072+np7T+trKe3nw0724fdqi/kpZde4rHHHqOuro633nqLXbt2MXr0aB577DG+9a1v8fOf/3zAMS+++CK/+tWvePvtt5kxYwY33nij8uVFopa94Pr47ZnumvHNmSCfgAuxkNBAf+RYT0nlw/X5z3+euro6ALq7u7n++ut5+eWXMTN6e3sLHvPZz36WsWPHMnbsWM455xxef/11mpuT8fVQJNZmLU1MYM+XyK6byY0NJZUP15lnnvne7e985zssWLCAAwcO8OCDDxbNgx87dux7t+vq6ujr6ytrnURE8iUy0K9cNIOG+rrTyhrq61i5aEbFnrO7u5umpky30A9/+MOKPY+ISKmGDPRmtsXM3jCzA0W2X2Zm3Wa2L/hZm7PtCjNrN7NDZra6nBUfzJI5Tdxx7UyaGhswoKmxgTuunVnW/vl83/zmN1mzZg3z58+nv79/6ANERKrE3H3wHcw+BRwH7nX3Cwtsvwz4hrtfnVdeB7wEXA50ALuBL7r780NVqqWlxfMXHnnhhRf46Ec/OtShiZG2v1ckauVMyY6Cme1x94K53EO26N19F/DHYTzvXOCQu7/i7ieA+4DFw3gcEZGKqkZKdpTK1Uf/STN7zsweMbMLgrImIHcEQkdQVpCZLTezVjNrPXr0aJmqJSIytMFSspOgHIH+d8AH3f0i4B+B7UF5oZm5ivYTuftmd29x95ZJkwqubysiUhHVSsmOyogDvbu/5e7Hg9sPA/VmNpFMC35Kzq7NwJGRPp+IJFDEUwRXKyU7KiMO9GZ2rgXz6prZ3OAxu8hcfJ1uZtPMbAywDNgx0ucTkYTJThHcfRjwU1MEVzHYR5GSXU1Djow1sx8DlwETzawD+DugHsDdNwF/CdxoZn1AD7DMM6k8fWZ2E7ATqAO2uPvBivwVIhJfg00RXGikatvWsk9VkM2uiXPWzWCGDPTu/sUhtn8P+F6RbQ8DDw+varWjq6uLhQsXAvCHP/yBuro6stcRnn32WcaMGTPo8U8++SRjxoxh3rx5Fa+rSOyUMkVwBRcIWTKnKTGBPV8i57oByvqpP9Q0xUN58sknOeussxToRQopZYrgUlv/AiR0CoRq9Pnt2bOHSy+9lI997GMsWrSI1157DYCNGzdy/vnnM2vWLJYtW8arr77Kpk2buOuuu5g9eza//vWvy1YHkUQoZYrgWlggJIZryyazRV/hT3135+abb+aBBx5g0qRJ/OQnP+Hb3/42W7ZsYf369fz+979n7NixHDt2jMbGRlasWFHytwCR1ChliuCoFwiJ6dqyyQz0Ff7U//Of/8yBAwe4/PLLAejv7+e8884DYNasWVx33XUsWbKEJUuWlOX5RMqiAhcxyybsFMEL154eaKG6C4TEtOsomYG+wp/67s4FF1zAb3/72wHbHnroIXbt2sWOHTv47ne/y8GDSjSSGhDTlugAUS8QUgtdR8OQzD76Ci8LNnbsWI4ePfpeoO/t7eXgwYOcPHmSw4cPs2DBAu68806OHTvG8ePHOfvss3n77bfL8twiwzJYSzRuZi2F2w7AumOZ39X8oCrWWKzxtWWTGehnLYVrNsL4KYBlfl+zsWxviFGjRvGzn/2MVatWcdFFFzF79myefvpp+vv7+dKXvsTMmTOZM2cOt912G42NjVxzzTVs27ZNF2MlOjFtidachWvpqxt3WlFf3biaX1s2mV03ULFlwdatW/fe7V27dg3Y/tRTTw0o+8hHPkJbW1vZ6yISWtQXMRNie/98nuq9gVu5j8nWxRGfwD+cXMYl/fNZEnXlBpHcQC8ip0R9ETMhNuxsp/PEPH7G6WNifruzvaYHWyWz60ZETlfh7sy0iOssl7Fq0bs7wfxpiTbUql8iw1Kh7sw0mdzYQGeBoF7rs1zGpkU/btw4urq6Eh8E3Z2uri7GjRs39M4i5VbJUZ8xHFGaL66zXMamRd/c3ExHRwdpWH1q3LhxNDfrIplUWSVz7ROSxx/XWS6HXBw8CoUWBxeRCrvrwiKZOVMy+eq1+tgCjHBxcIlIAr7mSsxUKNd++95OTiqPP1IK9LWoBlbckRQKM+qzxAbI9r2drLl/P0dOTijtOZMowsabAn0tStJwdYmN3R++mR4/fRGdHh/D7g/fnLkzjAbIhp3t9PT2c2ffUt7Je+xU5fFH3HhToK9F+porEbj1+ems6r2BjpMTOelGx8mJrOq9gVufn57ZYRgNkGx++Y6Tl7A677FTlccfceMtNlk3qaLh6hKBI8d66OQSdpy45LRyy+aND6MBkpt3vuPkqcduamzgN7M+PfJKx0XEjTe16GtRhWffFCmk2KCf98qHMXNjXPPOyy7iWS8V6GuRhqtLBIYMysNogCyZ08Qd186kqbEBI9OSv+PamTWfd152Q527Cl+oHTKP3sy2AFcDb7j7hQW2XwesCu4eB2509+eCba8CbwP9QF+xHM98yqMXicb2vZ2DDwaq5VWqal2xc5c/mAwyHwIlNu4Gy6MPE+g/RSaA31sk0M8DXnD3P5nZlcA6d/94sO1VoMXd3wxdWxToRdJoyA+ZpCrTYLLBAv2QF2PdfZeZTR1k+9M5d58BdMVQREqSzbfv6e0HoPNYD2vu3w+Q/GBfhQu15e6j/xrwSM59Bx41sz1mtnywA81suZm1mllrGuazEZFTsvn2uXp6+9mwsz2iGlXPOw3nllQ+HGUL9Ga2gEygX5VTPN/dLwauBP426AYqyN03u3uLu7dMmjSpXNUSkRiI6zzv5XBn7xcGDCZ7x8dwZ+8XyvYcZQn0ZjYLuAdY7O5d2XJ3PxL8fgPYBswtx/OJSLIMmdqZYD86PnfAYLLVvTfwo+PlC5cjHjBlZh8A7gf+2t1fyik/Exjl7m8Htz8DaAy/iAywctGM0/roIT359pMbG9hxbOBAtaYyfsgN2aI3sx8DvwVmmFmHmX3NzFaY2Ypgl7XABOD7ZrbPzLLpMu8HnjKz54BngYfc/Rdlq7mIJEaa8+2rMahM89GLiESsHKmlI0qvFBGRyloyp6mi3140BYKISMKpRV9tGkIuCZDaUawxpUBfTQlZIFnSLdWjWGNKXTfVVAsrR2ktWhmhNI9ijSu16Ksp6pWj9I1CyiDNo1jjSi36aop48YGa+EYhsZfmUaxxpUBfTVGvHBX1NwpJBK0aFT8K9NUU9cpRUX+jkERI8yjWuNLI2DQp00o2IlJ7NDJWMrLBXHn8EnPK4y+NAn3azFqqwC6xpjz+0qmPXkRiRXn8pVOgF5FYUR5/6RToRSRWlMdfOgV6EYkV5fGXThdjRSRWshdclXUTngK9iMROpRfqSBp13YiIJJwCvYhIwinQi4gk3JCB3sy2mNkbZnagyHYzs41mdsjM2szs4pxtV5hZe7BtdTkrLiLhbd/byfz1TzBt9UPMX/8E2/d2Rl0lqaIwF2N/CHwPuLfI9iuB6cHPx4EfAB83szrgbuByoAPYbWY73P35kVY67jRPh1STpgyQIVv07r4L+OMguywG7vWMZ4BGMzsPmAsccvdX3P0EcF+wb6pl/+k6j/XgnPqnUwtLKkVTBkg5+uibgMM59zuCsmLlBZnZcjNrNbPWo0ePlqFatUn/dFJtmjJAypFHbwXKfJDygtx9M7AZMvPRl6FeNUn/dFJtkxsb6Czw/krDlAHqJs0oR4u+A5iSc78ZODJIeappng6ptrROGaBu0lPKEeh3AF8Osm8+AXS7+2vAbmC6mU0zszHAsmDfVEvrP52UWdtWuOtCWNeY+d22teiuqVz6r20rn3jgUg6O+gJPjbmFz416CkhvN+mQXTdm9mPgMmCimXUAfwfUA7j7JuBh4CrgEPAO8DfBtj4zuwnYCdQBW9z9YAX+hljRPB0yYvlLQnYfztyHoovKpGrKgOD8nEsPGDTbm6yvvwd6YcfJS1LZTao1Y0Xi5q4LM8E93/gpcFvB4S7pUuT8dJycyCUnNtLU2MBvVn86gopV1mBrxmpkrEjcdHeUVp42Rc7DZOtKbTepAr1I3IxvLq08bYqchzdsYvKvTRShQJ8QGuKeIgvXQn1ellZ9Q6Zcip6fc6/9r6kM8qD56IcUhzxcDXFPmewF18dvz3RTjG/OBLciF2JTR+dnAF2MHUR+AIVMKmStff2bv/6JggNiknrRSUQGGuxirFr0gxhsuoJaCvQabStSm2qlR0B99IOISwDVaFuR2lNLI3MV6AcRlwCq0bYitaeWJjBUoB9EXAJoKoe4i9S4WuoRUB/9IOI0XUGqhriLxEAtzRqqQD+EtAbQWrmIJBJXKxfNKJi1F0WPgAK9DKC8fJGRq6UeAQV6GSAuaaUita5WegR0MVYGqKWLSCIycgr0MkBc0kpFJBwFehkgLmmlIhKO+uhlgFq6iCQiI6dALwXVykUkERk5dd2IiCScAr2ISMIp0IuIJFyoQG9mV5hZu5kdMrPVBbavNLN9wc8BM+s3s/cF2141s/3BtuhXExERSZkhL8aaWR1wN3A50AHsNrMd7v58dh933wBsCPa/BrjN3f+Y8zAL3P3NstZcRERCCdOinwsccvdX3P0EcB+weJD9vwj8uByVExGRkQsT6JuAwzn3O4KyAczsDOAK4Oc5xQ48amZ7zGx5sScxs+Vm1mpmrUePHg1RLTlN21a460JY15j53bY16hqJSI0Ik0dvBcqKrSh+DfCbvG6b+e5+xMzOAX5pZi+6+64BD+i+GdgMmcXBQ9RLstq2woO3QG8wF0334cx9SPXK9yKSEaZF3wFMybnfDBwpsu8y8rpt3P1I8PsNYBuZriApp8dvPxXks3p7MuUiknphWvS7gelmNg3oJBPM/yp/JzMbD1wKfCmn7ExglLu/Hdz+DKDoE1LoxT+6Owo/QLFyEUmVIQO9u/eZ2U3ATqAO2OLuB81sRbB9U7DrXwCPuvv/yzn8/cA2M8s+1z+7+y/K+QfUhLatmdZzdweMb4aFa0fcZVLS4h/jmzPdNfnGN4+oDiKSDOZee93hLS0t3toak5T7/P5xgPoGuGbjiIL9/PVPFFxvsqmxgd+s/nRV6iAi8WFme9y9pdA2jYwdqQr1j5e0+MespZmgPn4KYJnfCvIiEtDslSNVof7xkleQn7VUgV1EClKLfqSK9YOPsH9ci3+ISLko0I/UwrWZ/vBc9Q2Z8hFYMqeJO66dSVNjA0amb/6Oa2dqjngRKZm6bkYq211S5qwb0OIfIlIeCvTloP5xEalhCvQiMRV6QJ2kngK9SAyVNKBOUk8XY0ViaMPO9veCfFZPbz8bdrZHVCOpZQr0IjFU0oA6ST0FepFaE2JtgWID54oOqJNUU6BPme17O5m//gmmrX6I+eufYPvezqirJLmy8xZ1Hwb81NoCecFeA+qkFLoYmyKVuoCn7I8yGmzupJwU3uz51XmXMBToU2SwC3jDDRDK/iizEuZO0oA6CUtdNylSiQt4yv4oswrNnSTppkCfIpW4gKfsjzKr0NxJkm4K9ClSiQt4yv4oM60tIBWgPvoUqcQFvJWLZpzWRw/FPzx00TYkzZ0kZaZAnzLlvoAX9sMj7Rdt9SEnUVKglxEL8+FRiYyfuEj7h5xEL1QfvZldYWbtZnbIzFYX2H6ZmXWb2b7gZ23YYyUdau6ibYjRp+WyYWc7l/f/C0+NuYVXxv4VT425hcv7/0WZSVI1Q7bozawOuBu4HOgAdpvZDnd/Pm/XX7v71cM8VhKu5DVwKyk7+jQ7MCk7+hQq0jfe8tYvuaP+Hs6wEwA025usr7+HNW8BfLrszyeSL0yLfi5wyN1fcfcTwH3A4pCPP5JjJUFKzfip6FQNg40+rYA1Y376XpDPOsNOsGbMTwvur2kqpNzCBPom4HDO/Y6gLN8nzew5M3vEzC4o8VhJuFLWwM32aXce68E51addtoBXwujTcng/b4Yur/jfLqkU5mKsFSjzvPu/Az7o7sfN7CpgOzA95LGZJzFbDiwH+MAHPhCiWhI3YTN+Kn7hdnxzMGlYgfIKsCLPZwWeL80XraVywrToO4ApOfebgSO5O7j7W+5+PLj9MFBvZhPDHJvzGJvdvcXdWyZNmlTCnyBJU/ELt9UefVrC89XcRWtJhDCBfjcw3cymmdkYYBmwI3cHMzvXzCy4PTd43K4wx4rkq/ho23KNPg2buVPC82mksVTCkF037t5nZjcBO4E6YIu7HzSzFcH2TcBfAjeaWR/QAyxzdwcKHluhv0USopTRtsM20tGnpWbuhHy+qvztkjqWice1paWlxVtbW6OuhkSo5keS3nVhkX7+KXDbgRE9dM3/7VKTzGyPu7cU2qaRsWWif87yqvm51iuYuVPzf7vEjmavLAOlxKWQ5o2XGFGgLwMtvpFCmjdeYkSBvgxSnxJXxXljaobmjZcYUR99GdTUPC7VVuV5Y2qK5o2XmFCLvgwqsXJTbFR53hgRKZ1a9GVQiZWbYqPK88bkU7aTyNAU6MsktSlxVZ43JpcW9BAJR103MjIRZp8o20kkHAV6GZkIs09Sn+0kElL6um7atmYuFHZ3ZLoXFq5V5sRIRZR9kupsJ5ESpKtFn00F7D4M+KlUwDTkfQ9HjefH10K2k1aDkjhIV4t+sFTAYi3StH4DiEF+fPaC676HNnPDif/D5FFdvNtwLmfU3Q5Uvo66GCxxka4WfampgGn+BhCT/Pgldb9hnf0Pmke9ySicM3peq9prpIvBEhfpCvSlTkQVk2BXERHnx4cW4Wuki8ESF+kK9KWmAsYl2FVCXGZnjPA10mpQEhfpCvSlpgLGJdhVQlxmZ4zwNaqFi8EiYaTrYiyUlgq4cO3pFyShNoNdJWTPUa1fiI7wNUr11BcSK1pKcChpzbqJE71GIoMuJahALyKSAIMF+nT10YuIpFCoQG9mV5hZu5kdMrPVBbZfZ2Ztwc/TZnZRzrZXzWy/me0zMzXTRUSqbMiLsWZWB9wNXA50ALvNbIe7P5+z2++BS939T2Z2JbAZ+HjO9gXu/mYZ6y0iIiGFadHPBQ65+yvufgK4D1icu4O7P+3ufwruPgOkIP9QRCQewgT6JiB3ZYmOoKyYrwGP5Nx34FEz22Nmy4sdZGbLzazVzFqPHj0aoloiIhJGmDx6K1BWMFXHzBaQCfSX5BTPd/cjZnYO8Esze9Hddw14QPfNZLp8aGlpqb1UICkPpUKKVF2YFn0HMCXnfjNwJH8nM5sF3AMsdveubLm7Hwl+vwFsI9MVJGmU5kniRCIUJtDvBqab2TQzGwMsA3bk7mBmHwDuB/7a3V/KKT/TzM7O3gY+AxwoV+UlZtI8SZxIhIbsunH3PjO7CdgJ1AFb3P2gma0Itm8C1gITgO+bGUBfkLj/fmBbUDYa+Gd3/0VF/hKpfWmeJE4kQqHmunH3h4GH88o25dy+AbihwHGvABfll0tKjW8Oum0KlItIxWhkrFRPXGbEFEmY5Mxe2baVdx5Zy7ieP3Dk5ATuGfMlZn92uWYSrCVxmRFTJGGSEejbttL3wM2c0f8uAM2j3uSbvd9n7bY+4D8r2NeSUqaJFpGySEbXzeO3MzoI8lln2Alu5T6t3ykiqZeMQF8ka2OydWn9ThFJvWR03RTJ5jjiE7R+p7xn+95OrQYlqZSMFv3CtfTVjTut6B0fwz+wTOt3CpAJ8mvu30/nsR4c6DzWw5r797N9b2fUVROpuGS06GctZTQMyLq5RFk3Etiws52e3v7Tynp6+9mws33Ae0Qtf0maZAR6gFlLOSPI5mgG1kVaGak1xa7V5JdnW/7ZD4Vsyx9QsJfYSkbXjcgQil2ryS8frOUvElcK9JIKKxfNoKG+7rSyhvq6Addwwrb8ReJEgV5SYcmcJu64diZNjQ0Y0NTYwB3XzhzQHRO25S8SJ8npoxcZwpI5TUP2s69cNOO0Pnoo3PIXiRMFepEc2Q8CZd1IkijQi+QJ0/IXiRP10YuIJJwCvYhIwinQi4gknAK9iEjCKdCLiCScAr2ISMKFCvRmdoWZtZvZITNbXWC7mdnGYHubmV0c9liRotq2wl0XwrrGzO+2rVHXSCSWhgz0ZlYH3A1cCZwPfNHMzs/b7UpgevCzHPhBCceKDNS2FR68JVhQxjO/H7xFwV5kGMK06OcCh9z9FXc/AdwHLM7bZzFwr2c8AzSa2XkhjxUZ6PHboTdvIrHenky5iJQkTKBvAnLX6esIysLsE+ZYAMxsuZm1mlnr0aNHQ1RLEq3IOsBFy0WkqDCB3gqUech9whybKXTf7O4t7t4yadKkENWSRBvfXFq5iBQVJtB3AFNy7jcDR0LuE+ZYkYEWroX6vKmB6xsy5SJSkjCBfjcw3cymmdkYYBmwI2+fHcCXg+ybTwDd7v5ayGNFBpq1FK7ZCOOnAJb5fc3GTLmIlGTI2Svdvc/MbgJ2AnXAFnc/aGYrgu2bgIeBq4BDwDvA3wx2bEX+EkmeWUurH9jbtmYu+HZ3ZLqJFq7Vh4vEnrkX7DKPVEtLi7e2tkZdDUmbbEpnbrZPfYO+SUgsmNked28ptC2V89Fv39uphSVkoMFSOhXoJcZSF+i37+08bam4zmM9rLl/P4CCfdoppVMSKnVz3WzY2X7aeqAAPb39bNjZHlGNpGYopVMSKnWB/sixnpLKJUWU0ikJlbpAP7mxoaRySRGldEpCpa6PfuWiGaf10QM01NexctGMCGslNSOKlE6RCktdoM9ecFXWjYikReoCPWSCvQK7iKRF6vroRUTSRoFeRCThFOhFRBJOgV5EJOEU6EVEEq4mZ680s6PAv4/gISYCb5apOuWkepWmFutVi3UC1atUSazXB9294PJ8NRnoR8rMWotN1xkl1as0tVivWqwTqF6lSlu91HUjIpJwCvQiIgmX1EC/OeoKFKF6laYW61WLdQLVq1Spqlci++hFROSUpLboRUQkoEAvIpJwsQ30ZnaFmbWb2SEzW11gu5nZxmB7m5ldXIU6TTGzX5nZC2Z20Mz+S4F9LjOzbjPbF/xUZfkiM3vVzPYHz9laYHsU52tGznnYZ2ZvmdmteftU5XyZ2RYze8PMDuSUvc/MfmlmLwe//0ORYwd9L1agXhvM7MXgddpmZo1Fjh30Na9AvdaZWWfOa3VVkWOrfb5+klOnV81sX5FjK3m+CsaGqr3H3D12P0Ad8G/Ah4AxwHPA+Xn7XAU8AhjwCeBfq1Cv84CLg9tnAy8VqNdlwP+N4Jy9CkwcZHvVz1eB1/QPZAZ9VP18AZ8CLgYO5JTdCawObq8G/n4478UK1OszwOjg9t8XqleY17wC9VoHfCPE61zV85W3/b8BayM4XwVjQ7XeY3Ft0c8FDrn7K+5+ArgPWJy3z2LgXs94Bmg0s/MqWSl3f83dfxfcfht4AYjLxPdVP195FgL/5u4jGRE9bO6+C/hjXvFi4EfB7R8BSwocGua9WNZ6ufuj7t4X3H0GqPrq5UXOVxhVP19ZZmbAUuDH5Xq+sAaJDVV5j8U10DcBh3PudzAwoIbZp2LMbCowB/jXAps/aWbPmdkjZnZBlarkwKNmtsfMlhfYHun5ApZR/B8wivMF8H53fw0y/6jAOQX2ifq8fZXMN7FChnrNK+GmoEtpS5FuiCjP138EXnf3l4tsr8r5yosNVXmPxTXQW4Gy/DzRMPtUhJmdBfwcuNXd38rb/Dsy3RMXAf8IbK9GnYD57n4xcCXwt2b2qbztUZ6vMcDngJ8W2BzV+QoryvP2baAP+Kciuwz1mpfbD4APA7OB18h0k+SL7HwBX2Tw1nzFz9cQsaHoYQXKSjpncQ30HcCUnPvNwJFh7FN2ZlZP5oX8J3e/P3+7u7/l7seD2w8D9WY2sdL1cvcjwe83gG1kvg7miuR8Ba4Efufur+dviOp8BV7Pdl8Fv98osE9U77PrgauB6zzoyM0X4jUvK3d/3d373f0k8D+LPF9U52s0cC3wk2L7VPp8FYkNVXmPxTXQ7wamm9m0oDW4DNiRt88O4MtBNskngO7sV6RKCfoA/xfwgrv/9yL7nBvsh5nNJfMadFW4Xmea2dnZ22Qu5h3I263q5ytH0ZZWFOcrxw7g+uD29cADBfYJ814sKzO7AlgFfM7d3ymyT5jXvNz1yr2m8xdFnq/q5yvwn4AX3b2j0MZKn69BYkN13mOVuMJcjR8yWSIvkbka/e2gbAWwIrhtwN3B9v1ASxXqdAmZr1RtwL7g56q8et0EHCRz5fwZYF4V6vWh4PmeC567Js5X8LxnkAnc43PKqn6+yHzQvAb0kmlBfQ2YADwOvBz8fl+w72Tg4cHeixWu1yEyfbbZ99im/HoVe80rXK//Hbx32sgEovNq4XwF5T/Mvqdy9q3m+SoWG6ryHtMUCCIiCRfXrhsREQlJgV5EJOEU6EVEEk6BXkQk4RToRUQSToFeRCThFOhFRBLu/wP7tg6ko+FD9gAAAABJRU5ErkJggg==
"
>
</div>

</div>

</div>
</div>

</div>
<div class="cell border-box-sizing code_cell rendered">
<div class="input">
<div class="prompt input_prompt">In&nbsp;[6]:</div>
<div class="inner_cell">
    <div class="input_area">
<div class=" highlight hl-ipython3"><pre><span></span><span class="n">n_inputs</span> <span class="o">=</span> <span class="n">Xtrain</span><span class="o">.</span><span class="n">shape</span><span class="p">[</span><span class="mi">1</span><span class="p">]</span>
<span class="n">n_hiddens</span> <span class="o">=</span> <span class="mi">10</span>
<span class="n">n_outputs</span> <span class="o">=</span> <span class="n">Ttrain</span><span class="o">.</span><span class="n">shape</span><span class="p">[</span><span class="mi">1</span><span class="p">]</span>

<span class="n">n_epochs</span> <span class="o">=</span> <span class="mi">2000</span>
<span class="n">learning_rate</span> <span class="o">=</span> <span class="mf">0.1</span>

<span class="n">V</span><span class="p">,</span> <span class="n">W</span> <span class="o">=</span> <span class="n">make_weights</span><span class="p">(</span><span class="n">n_inputs</span><span class="p">,</span> <span class="n">n_hiddens</span><span class="p">,</span> <span class="n">n_outputs</span><span class="p">)</span>

<span class="n">V</span><span class="p">,</span> <span class="n">W</span><span class="p">,</span> <span class="n">stand_parms</span><span class="p">,</span> <span class="n">error_trace</span> <span class="o">=</span> <span class="n">train_sgd</span><span class="p">(</span><span class="n">Xtrain</span><span class="p">,</span> <span class="n">Ttrain</span><span class="p">,</span> <span class="n">V</span><span class="p">,</span> <span class="n">W</span><span class="p">,</span> <span class="n">learning_rate</span><span class="p">,</span> <span class="n">n_epochs</span><span class="p">)</span>

<span class="n">_</span><span class="p">,</span> <span class="n">Ytrain</span> <span class="o">=</span> <span class="n">use</span><span class="p">(</span><span class="n">Xtrain</span><span class="p">,</span> <span class="n">V</span><span class="p">,</span> <span class="n">W</span><span class="p">,</span> <span class="n">stand_parms</span><span class="p">)</span>  <span class="c1"># </span>
<span class="n">rmse_train</span> <span class="o">=</span> <span class="n">rmse</span><span class="p">(</span><span class="n">Ytrain</span><span class="p">,</span> <span class="n">Ttrain</span><span class="p">)</span>
<span class="n">_</span><span class="p">,</span> <span class="n">Ytest</span> <span class="o">=</span> <span class="n">use</span><span class="p">(</span><span class="n">Xtest</span><span class="p">,</span> <span class="n">V</span><span class="p">,</span> <span class="n">W</span><span class="p">,</span> <span class="n">stand_parms</span><span class="p">)</span>
<span class="n">rmse_test</span> <span class="o">=</span> <span class="n">rmse</span><span class="p">(</span><span class="n">Ytest</span><span class="p">,</span> <span class="n">Ttest</span><span class="p">)</span>

<span class="nb">print</span><span class="p">(</span><span class="sa">f</span><span class="s1">&#39;RMSE: Train </span><span class="si">{rmse_train:.2f}</span><span class="s1"> Test </span><span class="si">{rmse_test:.2f}</span><span class="s1">&#39;</span><span class="p">)</span>
</pre></div>

    </div>
</div>
</div>

<div class="output_wrapper">
<div class="output">


<div class="output_area">

    <div class="prompt"></div>


<div class="output_subarea output_stream output_stdout output_text">
<pre>RMSE: Train 0.19 Test 0.27
</pre>
</div>
</div>

</div>
</div>

</div>
<div class="cell border-box-sizing code_cell rendered">
<div class="input">
<div class="prompt input_prompt">In&nbsp;[7]:</div>
<div class="inner_cell">
    <div class="input_area">
<div class=" highlight hl-ipython3"><pre><span></span><span class="n">plt</span><span class="o">.</span><span class="n">figure</span><span class="p">(</span><span class="n">figsize</span><span class="o">=</span><span class="p">(</span><span class="mi">10</span><span class="p">,</span> <span class="mi">10</span><span class="p">))</span>
<span class="n">plt</span><span class="o">.</span><span class="n">subplot</span><span class="p">(</span><span class="mi">3</span><span class="p">,</span> <span class="mi">1</span><span class="p">,</span> <span class="mi">1</span><span class="p">)</span>
<span class="n">plt</span><span class="o">.</span><span class="n">plot</span><span class="p">(</span><span class="n">error_trace</span><span class="p">)</span>
<span class="n">plt</span><span class="o">.</span><span class="n">xlabel</span><span class="p">(</span><span class="s1">&#39;Epoch&#39;</span><span class="p">)</span>
<span class="n">plt</span><span class="o">.</span><span class="n">ylabel</span><span class="p">(</span><span class="s1">&#39;RMSE&#39;</span><span class="p">)</span>

<span class="n">plt</span><span class="o">.</span><span class="n">subplot</span><span class="p">(</span><span class="mi">3</span><span class="p">,</span> <span class="mi">1</span><span class="p">,</span> <span class="mi">2</span><span class="p">)</span>
<span class="n">plt</span><span class="o">.</span><span class="n">plot</span><span class="p">(</span><span class="n">Xtrain</span><span class="p">,</span> <span class="n">Ttrain</span><span class="p">,</span> <span class="s1">&#39;o&#39;</span><span class="p">,</span> <span class="n">label</span><span class="o">=</span><span class="s1">&#39;Training Data&#39;</span><span class="p">)</span>
<span class="n">plt</span><span class="o">.</span><span class="n">plot</span><span class="p">(</span><span class="n">Xtest</span><span class="p">,</span> <span class="n">Ttest</span><span class="p">,</span> <span class="s1">&#39;o&#39;</span><span class="p">,</span> <span class="n">label</span><span class="o">=</span><span class="s1">&#39;Testing Data&#39;</span><span class="p">)</span>
<span class="n">X_for_plot</span> <span class="o">=</span> <span class="n">np</span><span class="o">.</span><span class="n">linspace</span><span class="p">(</span><span class="mi">0</span><span class="p">,</span> <span class="mi">20</span><span class="p">,</span> <span class="mi">100</span><span class="p">)</span><span class="o">.</span><span class="n">reshape</span><span class="p">(</span><span class="o">-</span><span class="mi">1</span><span class="p">,</span> <span class="mi">1</span><span class="p">)</span>
<span class="n">Z_train</span><span class="p">,</span> <span class="n">Y_train</span> <span class="o">=</span> <span class="n">use</span><span class="p">(</span><span class="n">X_for_plot</span><span class="p">,</span> <span class="n">V</span><span class="p">,</span> <span class="n">W</span><span class="p">,</span> <span class="n">stand_parms</span><span class="p">)</span>
<span class="n">plt</span><span class="o">.</span><span class="n">plot</span><span class="p">(</span><span class="n">X_for_plot</span><span class="p">,</span> <span class="n">Y_train</span><span class="p">,</span> <span class="n">label</span><span class="o">=</span><span class="s1">&#39;Neural Net Output&#39;</span><span class="p">)</span>
<span class="n">plt</span><span class="o">.</span><span class="n">legend</span><span class="p">()</span>
<span class="n">plt</span><span class="o">.</span><span class="n">xlabel</span><span class="p">(</span><span class="s1">&#39;X&#39;</span><span class="p">)</span>
<span class="n">plt</span><span class="o">.</span><span class="n">ylabel</span><span class="p">(</span><span class="s1">&#39;Y&#39;</span><span class="p">)</span>

<span class="n">plt</span><span class="o">.</span><span class="n">subplot</span><span class="p">(</span><span class="mi">3</span><span class="p">,</span> <span class="mi">1</span><span class="p">,</span> <span class="mi">3</span><span class="p">)</span>
<span class="n">plt</span><span class="o">.</span><span class="n">plot</span><span class="p">(</span><span class="n">X_for_plot</span><span class="p">,</span> <span class="n">Z_train</span><span class="p">)</span>
<span class="n">plt</span><span class="o">.</span><span class="n">xlabel</span><span class="p">(</span><span class="s1">&#39;X&#39;</span><span class="p">)</span>
<span class="n">plt</span><span class="o">.</span><span class="n">ylabel</span><span class="p">(</span><span class="s1">&#39;Hidden Unit Outputs&#39;</span><span class="p">)</span>
</pre></div>

    </div>
</div>
</div>

<div class="output_wrapper">
<div class="output">


<div class="output_area">

    <div class="prompt output_prompt">Out[7]:</div>




<div class="output_text output_subarea output_execute_result">
<pre>Text(0, 0.5, &#39;Hidden Unit Outputs&#39;)</pre>
</div>

</div>

<div class="output_area">

    <div class="prompt"></div>




<div class="output_png output_subarea ">
<img src="data:image/png;base64,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
"
>
</div>

</div>

</div>
</div>

</div>
<div class="cell border-box-sizing text_cell rendered"><div class="prompt input_prompt">
</div><div class="inner_cell">
<div class="text_cell_render border-box-sizing rendered_html">
<h2 id="Required-Part-One">Required Part One<a class="anchor-link" href="#Required-Part-One">&#182;</a></h2><p>The changes you must implement are specified here.  We recommend that you copy the above code cells and paste them below, then edit them appropriately.</p>
<p>You will implement a set of functions for training and testing a multilayered neural network to predict continuous-valued target values.  This assignment provides an implementation of the functions for a neural network with one hidden layer.  You must modify the functions to allow any number of hidden layers, each with any number of units.</p>
<p>The required functions are:</p>
<ul>
<li><code>make_weights(n_inputs, n_hiddens_list, n_outputs):</code> Given integers <code>n_inputs</code>, list of <code>n_hiddens</code>, one integer per hidden layer, and <code>n_outputs</code>, create and return list of weight matrices, one for each layer.</li>
<li><code>forward(Xst, Ws)</code>: Given standardized input matrix <code>X</code> and list of weight matrices <code>Ws</code>, calculate the output of all layers and return a list of the outputs of each layer.</li>
<li><code>backward(Xst, Tst, Ws)</code>: Given standardized input matrix <code>X</code>, standardized target matrix <code>T</code>, and list of weight matrices <code>Ws</code>, calculate the gradient of the mean squared error with respect to the weights in each layer, returning a tuple or list of all gradient matrices.</li>
<li><code>train_sgd(X, T, Ws, learning_rate, n_epochs):</code> Given input and target matrices <code>X</code> and <code>T</code>, liist of all weight matrices <code>Ws</code>, a learning_rate and the number of epochs to train, update the weights for <code>n_epochs</code> iterations using the gradient of the mean squared over the whole data set in <code>X</code> and <code>T</code>  and return the list of resulting new weight matrices, the standardization parameters, and the list of RMSE training errors, one per epoch.</li>
<li><code>use(X, Ws, stand_parms):</code> Calculate outputs of all layers after standardizing input <code>X</code>. Return list of outputs of each hidden layer, and unstandardized output of output layer.</li>
</ul>

</div>
</div>
</div>
<div class="cell border-box-sizing text_cell rendered"><div class="prompt input_prompt">
</div><div class="inner_cell">
<div class="text_cell_render border-box-sizing rendered_html">
<p>Here are some example outputs that should be returned from these functions.</p>

</div>
</div>
</div>
<div class="cell border-box-sizing code_cell rendered">
<div class="input">
<div class="prompt input_prompt">In&nbsp;[2]:</div>
<div class="inner_cell">
    <div class="input_area">
<div class=" highlight hl-ipython3"><pre><span></span><span class="n">X</span> <span class="o">=</span> <span class="n">np</span><span class="o">.</span><span class="n">arange</span><span class="p">(</span><span class="mi">5</span><span class="p">)</span><span class="o">.</span><span class="n">reshape</span><span class="p">(</span><span class="o">-</span><span class="mi">1</span><span class="p">,</span> <span class="mi">1</span><span class="p">)</span>
<span class="n">T</span> <span class="o">=</span> <span class="p">(</span><span class="n">X</span> <span class="o">-</span> <span class="mi">2</span><span class="p">)</span> <span class="o">**</span> <span class="mi">3</span>
<span class="n">plt</span><span class="o">.</span><span class="n">plot</span><span class="p">(</span><span class="n">X</span><span class="p">,</span> <span class="n">T</span><span class="p">,</span> <span class="s1">&#39;o&#39;</span><span class="p">);</span>
</pre></div>

    </div>
</div>
</div>

<div class="output_wrapper">
<div class="output">


<div class="output_area">

    <div class="prompt"></div>




<div class="output_png output_subarea ">
<img src="data:image/png;base64,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
"
>
</div>

</div>

</div>
</div>

</div>
<div class="cell border-box-sizing code_cell rendered">
<div class="input">
<div class="prompt input_prompt">In&nbsp;[3]:</div>
<div class="inner_cell">
    <div class="input_area">
<div class=" highlight hl-ipython3"><pre><span></span><span class="n">stand_parms</span> <span class="o">=</span> <span class="n">calc_standardize_parameters</span><span class="p">(</span><span class="n">X</span><span class="p">,</span> <span class="n">T</span><span class="p">)</span>
<span class="n">stand_parms</span>
</pre></div>

    </div>
</div>
</div>

<div class="output_wrapper">
<div class="output">


<div class="output_area">

    <div class="prompt output_prompt">Out[3]:</div>




<div class="output_text output_subarea output_execute_result">
<pre>{&#39;Xmeans&#39;: array([2.]),
 &#39;Xstds&#39;: array([1.41421356]),
 &#39;Tmeans&#39;: array([0.]),
 &#39;Tstds&#39;: array([5.09901951])}</pre>
</div>

</div>

</div>
</div>

</div>
<div class="cell border-box-sizing code_cell rendered">
<div class="input">
<div class="prompt input_prompt">In&nbsp;[4]:</div>
<div class="inner_cell">
    <div class="input_area">
<div class=" highlight hl-ipython3"><pre><span></span><span class="n">np</span><span class="o">.</span><span class="n">random</span><span class="o">.</span><span class="n">seed</span><span class="p">(</span><span class="mi">42</span><span class="p">)</span>  <span class="c1"># Set the random number generator seed so same weight values are generated each time.</span>
<span class="n">n_inputs</span> <span class="o">=</span> <span class="mi">1</span>
<span class="n">n_hiddens_list</span> <span class="o">=</span> <span class="p">[</span><span class="mi">2</span><span class="p">,</span> <span class="mi">3</span><span class="p">]</span>
<span class="n">n_outputs</span> <span class="o">=</span> <span class="mi">1</span>
<span class="n">Ws</span> <span class="o">=</span> <span class="n">make_weights</span><span class="p">(</span><span class="n">n_inputs</span><span class="p">,</span> <span class="n">n_hiddens_list</span><span class="p">,</span> <span class="n">n_outputs</span><span class="p">)</span>
<span class="n">Ws</span>
</pre></div>

    </div>
</div>
</div>

<div class="output_wrapper">
<div class="output">


<div class="output_area">

    <div class="prompt output_prompt">Out[4]:</div>




<div class="output_text output_subarea output_execute_result">
<pre>[array([[-0.17742707,  0.63740628],
        [ 0.32808898,  0.13952417]]),
 array([[-0.39719546, -0.39722331, -0.51028109],
        [ 0.42282379,  0.11675756,  0.24026152],
        [-0.55358134,  0.54260516,  0.3838717 ]]),
 array([[-0.28766089],
        [-0.31817503],
        [-0.31659549],
        [-0.19575776]])]</pre>
</div>

</div>

</div>
</div>

</div>
<div class="cell border-box-sizing code_cell rendered">
<div class="input">
<div class="prompt input_prompt">In&nbsp;[5]:</div>
<div class="inner_cell">
    <div class="input_area">
<div class=" highlight hl-ipython3"><pre><span></span><span class="n">Xst</span> <span class="o">=</span> <span class="n">standardize_X</span><span class="p">(</span><span class="n">X</span><span class="p">,</span> <span class="n">stand_parms</span><span class="p">)</span>
<span class="n">Xst</span>
</pre></div>

    </div>
</div>
</div>

<div class="output_wrapper">
<div class="output">


<div class="output_area">

    <div class="prompt output_prompt">Out[5]:</div>




<div class="output_text output_subarea output_execute_result">
<pre>array([[-1.41421356],
       [-0.70710678],
       [ 0.        ],
       [ 0.70710678],
       [ 1.41421356]])</pre>
</div>

</div>

</div>
</div>

</div>
<div class="cell border-box-sizing code_cell rendered">
<div class="input">
<div class="prompt input_prompt">In&nbsp;[6]:</div>
<div class="inner_cell">
    <div class="input_area">
<div class=" highlight hl-ipython3"><pre><span></span><span class="n">forward</span><span class="p">(</span><span class="n">Xst</span><span class="p">,</span> <span class="n">Ws</span><span class="p">)</span>
</pre></div>

    </div>
</div>
</div>

<div class="output_wrapper">
<div class="output">


<div class="output_area">

    <div class="prompt output_prompt">Out[6]:</div>




<div class="output_text output_subarea output_execute_result">
<pre>[array([[-0.56586221,  0.41371847],
        [-0.38798095,  0.49203951],
        [-0.17558839,  0.56313093],
        [ 0.05451278,  0.6267617 ],
        [ 0.27896633,  0.68300402]]),
 array([[-0.69907152, -0.23436786, -0.45216727],
        [-0.68241869, -0.17375875, -0.39238667],
        [-0.65452655, -0.11169878, -0.32416858],
        [-0.61759623, -0.05073081, -0.25110112],
        [-0.57659057,  0.00594955, -0.17911703]]),
 array([[ 0.09748127],
        [ 0.06129167],
        [ 0.01941496],
        [-0.02594105],
        [-0.07102422]])]</pre>
</div>

</div>

</div>
</div>

</div>
<div class="cell border-box-sizing code_cell rendered">
<div class="input">
<div class="prompt input_prompt">In&nbsp;[7]:</div>
<div class="inner_cell">
    <div class="input_area">
<div class=" highlight hl-ipython3"><pre><span></span><span class="n">Tst</span> <span class="o">=</span> <span class="n">standardize_T</span><span class="p">(</span><span class="n">T</span><span class="p">,</span> <span class="n">stand_parms</span><span class="p">)</span>
<span class="n">Tst</span>
</pre></div>

    </div>
</div>
</div>

<div class="output_wrapper">
<div class="output">


<div class="output_area">

    <div class="prompt output_prompt">Out[7]:</div>




<div class="output_text output_subarea output_execute_result">
<pre>array([[-1.56892908],
       [-0.19611614],
       [ 0.        ],
       [ 0.19611614],
       [ 1.56892908]])</pre>
</div>

</div>

</div>
</div>

</div>
<div class="cell border-box-sizing code_cell rendered">
<div class="input">
<div class="prompt input_prompt">In&nbsp;[8]:</div>
<div class="inner_cell">
    <div class="input_area">
<div class=" highlight hl-ipython3"><pre><span></span><span class="n">backward</span><span class="p">(</span><span class="n">Xst</span><span class="p">,</span> <span class="n">Tst</span><span class="p">,</span> <span class="n">Ws</span><span class="p">)</span>
</pre></div>

    </div>
</div>
</div>

<div class="output_wrapper">
<div class="output">


<div class="output_area">

    <div class="prompt output_prompt">Out[8]:</div>




<div class="output_text output_subarea output_execute_result">
<pre>[array([[ 0.02036822, -0.01636089],
        [ 0.12862245,  0.0892945 ]]),
 array([[0.01472725, 0.00112042, 0.00918263],
        [0.05411053, 0.09250499, 0.05057852],
        [0.02592358, 0.02999365, 0.02150022]]),
 array([[ 0.01624453],
        [-0.05411685],
        [-0.08718807],
        [-0.10225819]])]</pre>
</div>

</div>

</div>
</div>

</div>
<div class="cell border-box-sizing code_cell rendered">
<div class="input">
<div class="prompt input_prompt">In&nbsp;[9]:</div>
<div class="inner_cell">
    <div class="input_area">
<div class=" highlight hl-ipython3"><pre><span></span><span class="n">use</span><span class="p">(</span><span class="n">X</span><span class="p">,</span> <span class="n">Ws</span><span class="p">,</span> <span class="n">stand_parms</span><span class="p">)</span>
</pre></div>

    </div>
</div>
</div>

<div class="output_wrapper">
<div class="output">


<div class="output_area">

    <div class="prompt output_prompt">Out[9]:</div>




<div class="output_text output_subarea output_execute_result">
<pre>[array([[-0.56586221,  0.41371847],
        [-0.38798095,  0.49203951],
        [-0.17558839,  0.56313093],
        [ 0.05451278,  0.6267617 ],
        [ 0.27896633,  0.68300402]]),
 array([[-0.69907152, -0.23436786, -0.45216727],
        [-0.68241869, -0.17375875, -0.39238667],
        [-0.65452655, -0.11169878, -0.32416858],
        [-0.61759623, -0.05073081, -0.25110112],
        [-0.57659057,  0.00594955, -0.17911703]]),
 array([[ 0.49705891],
        [ 0.31252744],
        [ 0.09899728],
        [-0.13227391],
        [-0.36215388]])]</pre>
</div>

</div>

</div>
</div>

</div>
<div class="cell border-box-sizing text_cell rendered"><div class="prompt input_prompt">
</div><div class="inner_cell">
<div class="text_cell_render border-box-sizing rendered_html">
<p>Test your functions on the same one-dimensional data defined above as <code>Xtrain, Ttrain</code> and <code>Xtest, Ttest</code> shown above.  Try your code using two hidden layers of as many units in each layer as you wish.  Plot the results, including an additional plot to show the outputs of each of the two hidden layers.</p>
<p>Write a for loop to create and train neural nets containing one, two, three and four hidden layers each with 4 hidden units. Train each for 10,000 epochs and a learning rate of 0.1. Collect list of results with each result being a list containing the number of layers and the RMSE for training and testing data.</p>
<p>Print a pretty table of your results be creating a <code>pandas</code> DataFrame of the results list (of lists). Discuss the results.</p>

</div>
</div>
</div>
<div class="cell border-box-sizing code_cell rendered">
<div class="input">
<div class="prompt input_prompt">In&nbsp;[38]:</div>
<div class="inner_cell">
    <div class="input_area">
<div class=" highlight hl-ipython3"><pre><span></span><span class="kn">import</span> <span class="nn">pandas</span>
<span class="n">df</span> <span class="o">=</span> <span class="n">pandas</span><span class="o">.</span><span class="n">DataFrame</span><span class="p">(</span><span class="n">results</span><span class="p">,</span> <span class="n">columns</span><span class="o">=</span><span class="p">(</span><span class="s1">&#39;Layers&#39;</span><span class="p">,</span> <span class="s1">&#39;RMSE Train&#39;</span><span class="p">,</span> <span class="s1">&#39;RMSE Test&#39;</span><span class="p">))</span>
<span class="n">df</span>
</pre></div>

    </div>
</div>
</div>

<div class="output_wrapper">
<div class="output">


<div class="output_area">

    <div class="prompt output_prompt">Out[38]:</div>



<div class="output_html rendered_html output_subarea output_execute_result">
<div>
<style scoped>
    .dataframe tbody tr th:only-of-type {
        vertical-align: middle;
    }

    .dataframe tbody tr th {
        vertical-align: top;
    }

    .dataframe thead th {
        text-align: right;
    }
</style>
<table border="1" class="dataframe">
  <thead>
    <tr style="text-align: right;">
      <th></th>
      <th>Layers</th>
      <th>RMSE Train</th>
      <th>RMSE Test</th>
    </tr>
  </thead>
  <tbody>
    <tr>
      <th>0</th>
      <td>1</td>
      <td>0.159036</td>
      <td>0.262594</td>
    </tr>
    <tr>
      <th>1</th>
      <td>2</td>
      <td>0.152369</td>
      <td>0.268204</td>
    </tr>
    <tr>
      <th>2</th>
      <td>3</td>
      <td>0.149410</td>
      <td>0.270108</td>
    </tr>
    <tr>
      <th>3</th>
      <td>4</td>
      <td>0.152133</td>
      <td>0.269085</td>
    </tr>
  </tbody>
</table>
</div>
</div>

</div>

</div>
</div>

</div>
<div class="cell border-box-sizing text_cell rendered"><div class="prompt input_prompt">
</div><div class="inner_cell">
<div class="text_cell_render border-box-sizing rendered_html">
<h2 id="Required-Part-Two">Required Part Two<a class="anchor-link" href="#Required-Part-Two">&#182;</a></h2><p>Copy and paste here the following functions and rename them as shown.  These new versions will use the asymmetric sigmoid activation function instead of the symmetric one that used <code>tanh</code>.  Repeat the above experiments with the one-dimensional data.</p>
<ul>
<li><code>forward</code> becomes <code>forward_asig</code></li>
<li><code>backward</code> becomes <code>backward_asig</code></li>
<li><code>train_sgd</code> becomes <code>train_sgd_asig</code></li>
<li><code>use</code> becomes <code>use_asig</code></li>
</ul>

</div>
</div>
</div>
<div class="cell border-box-sizing text_cell rendered"><div class="prompt input_prompt">
</div><div class="inner_cell">
<div class="text_cell_render border-box-sizing rendered_html">
<h1 id="Grading">Grading<a class="anchor-link" href="#Grading">&#182;</a></h1><p>Your notebook will be run and graded automatically. Test this grading process by first downloading <a href="http://www.cs.colostate.edu/~anderson/cs545/notebooks/A2grader.tar">A2grader.tar</a> and extract <code>A2grader.py</code> from it. Run the code in the following cell to demonstrate an example grading session.  The remaining 40 points will be based on other testing and the results you obtain and your discussions.</p>
<p>A different, but similar, grading script will be used to grade your checked-in notebook. It will include additional tests. You should design and perform additional tests on all of your functions to be sure they run correctly before checking in your notebook.</p>
<p>For the grading script to run correctly, you must first name this notebook as 'Lastname-A2.ipynb' with 'Lastname' being your last name, and then save this notebook.</p>

</div>
</div>
</div>
<div class="cell border-box-sizing code_cell rendered">
<div class="input">
<div class="prompt input_prompt">In&nbsp;[14]:</div>
<div class="inner_cell">
    <div class="input_area">
<div class=" highlight hl-ipython3"><pre><span></span><span class="o">%</span><span class="k">run</span> -i A2grader.py
</pre></div>

    </div>
</div>
</div>

<div class="output_wrapper">
<div class="output">


<div class="output_area">

    <div class="prompt"></div>


<div class="output_subarea output_stream output_stdout output_text">
<pre>======================= Code Execution =======================

Extracting python code from notebook named &#39;Anderson-A2.ipynb&#39; and storing in notebookcode.py
Removing all statements that are not function or class defs or import statements.

## Testing ####################################################################

    X = np.arange(4).reshape(-1, 1) + 5
    T = np.array([1, 2, -3, -4]).reshape((-1, 1))
    Ws = make_weights(1, [3, 4], 1)
    for W in Ws:
        W[:] = np.linspace(-1, 1, W.size).reshape(W.shape)

    stand_parms = {&#39;Xmeans&#39;: np.array([[0]]), &#39;Xstds&#39;: np.array([[1]]),
                   &#39;Tmeans&#39;: np.array([[0]]), &#39;Tstds&#39;: np.array([[1]])}

    def print_layers(what, lst):
        print(f&#39;{what}:&#39;)
        for (i, element) in enumerate(lst):
            print(f&#39; Layer {i}:&#39;)
            print(f&#39; {element}&#39;)

    print(&#39;X is&#39;)
    print(X)
    print_layers(&#39;Ws&#39;, Ws)
    print(&#39;stand_parms is&#39;)
    print(stand_parms)
    Ys = use(X, Ws, stand_parms)

X is
 [[5]
 [6]
 [7]
 [8]]
Ws:
 Layer 0:
 [[-1.  -0.6 -0.2]
 [ 0.2  0.6  1. ]]
 Layer 1:
 [[-1.         -0.86666667 -0.73333333 -0.6       ]
 [-0.46666667 -0.33333333 -0.2        -0.06666667]
 [ 0.06666667  0.2         0.33333333  0.46666667]
 [ 0.6         0.73333333  0.86666667  1.        ]]
 Layer 2:
 [[-1. ]
 [-0.5]
 [ 0. ]
 [ 0.5]
 [ 1. ]]
stand_parms is
 {&#39;Xmeans&#39;: array([[0]]), &#39;Xstds&#39;: array([[1]]), &#39;Tmeans&#39;: array([[0]]), &#39;Tstds&#39;: array([[1]])}

--- 10/10 points. Returned correct values in Ys.

## Testing ####################################################################

    X = np.arange(4).reshape(-1, 1) + 5
    T = np.array([1, 2, -3, -4]).reshape((-1, 1))
    Ws = make_weights(1, [3, 4], 1)
    for W in Ws:
        W[:] = np.linspace(-1, 1, W.size).reshape(W.shape)

    stand_parms = {&#39;Xmeans&#39;: np.array([[0]]), &#39;Xstds&#39;: np.array([[1]]),
                   &#39;Tmeans&#39;: np.array([[0]]), &#39;Tstds&#39;: np.array([[1]])}
    print(&#39;X is&#39;)
    print(X)
    print(&#39;T is&#39;)
    print(T)
    print_layers(&#39;Ws&#39;, Ws)
    print(&#39;stand_parms is&#39;)
    print(stand_parms)
    gradients = backward(X, T, Ws)

X is
 [[5]
 [6]
 [7]
 [8]]
T is
 [[ 1]
 [ 2]
 [-3]
 [-4]]
Ws:
 Layer 0:
 [[-1.  -0.6 -0.2]
 [ 0.2  0.6  1. ]]
 Layer 1:
 [[-1.         -0.86666667 -0.73333333 -0.6       ]
 [-0.46666667 -0.33333333 -0.2        -0.06666667]
 [ 0.06666667  0.2         0.33333333  0.46666667]
 [ 0.6         0.73333333  0.86666667  1.        ]]
 Layer 2:
 [[-1. ]
 [-0.5]
 [ 0. ]
 [ 0.5]
 [ 1. ]]
stand_parms is
 {&#39;Xmeans&#39;: array([[0]]), &#39;Xstds&#39;: array([[1]]), &#39;Tmeans&#39;: array([[0]]), &#39;Tstds&#39;: array([[1]])}

--- 10/10 points. Returned correct values in gradients.

## Testing ####################################################################

    X = np.arange(4).reshape(-1, 1) + 5
    T = np.array([1, 2, -3, -4]).reshape((-1, 1))
    Ws = make_weights(1, [3, 4], 1)
    for W in Ws:
        W[:] = np.linspace(-1, 1, W.size).reshape(W.shape)

    stand_parms = {&#39;Xmeans&#39;: np.array([[0]]), &#39;Xstds&#39;: np.array([[1]]),
                   &#39;Tmeans&#39;: np.array([[0]]), &#39;Tstds&#39;: np.array([[1]])}

    print(&#39;X is&#39;)
    print(X)
    print_layers(&#39;Ws&#39;, Ws)
    print(&#39;stand_parms is&#39;)
    print(stand_parms)
    Ys = use_asig(X, Ws, stand_parms)

X is
 [[5]
 [6]
 [7]
 [8]]
Ws:
 Layer 0:
 [[-1.  -0.6 -0.2]
 [ 0.2  0.6  1. ]]
 Layer 1:
 [[-1.         -0.86666667 -0.73333333 -0.6       ]
 [-0.46666667 -0.33333333 -0.2        -0.06666667]
 [ 0.06666667  0.2         0.33333333  0.46666667]
 [ 0.6         0.73333333  0.86666667  1.        ]]
 Layer 2:
 [[-1. ]
 [-0.5]
 [ 0. ]
 [ 0.5]
 [ 1. ]]
stand_parms is
 {&#39;Xmeans&#39;: array([[0]]), &#39;Xstds&#39;: array([[1]]), &#39;Tmeans&#39;: array([[0]]), &#39;Tstds&#39;: array([[1]])}

--- 10/10 points. Returned correct values in Ys.

## Testing ####################################################################

    X = np.arange(4).reshape(-1, 1) + 5
    T = np.array([1, 2, -3, -4]).reshape((-1, 1))
    Ws = make_weights(1, [3, 4], 1)
    for W in Ws:
        W[:] = np.linspace(-1, 1, W.size).reshape(W.shape)

    stand_parms = {&#39;Xmeans&#39;: np.array([[0]]), &#39;Xstds&#39;: np.array([[1]]),
                   &#39;Tmeans&#39;: np.array([[0]]), &#39;Tstds&#39;: np.array([[1]])}
    print(&#39;X is&#39;)
    print(X)
    print(&#39;T is&#39;)
    print(T)
    print_layers(&#39;Ws&#39;, Ws)
    print(&#39;stand_parms is&#39;)
    print(stand_parms)

    gradients = backward_asig(X, T, Ws)

X is
 [[5]
 [6]
 [7]
 [8]]
T is
 [[ 1]
 [ 2]
 [-3]
 [-4]]
Ws:
 Layer 0:
 [[-1.  -0.6 -0.2]
 [ 0.2  0.6  1. ]]
 Layer 1:
 [[-1.         -0.86666667 -0.73333333 -0.6       ]
 [-0.46666667 -0.33333333 -0.2        -0.06666667]
 [ 0.06666667  0.2         0.33333333  0.46666667]
 [ 0.6         0.73333333  0.86666667  1.        ]]
 Layer 2:
 [[-1. ]
 [-0.5]
 [ 0. ]
 [ 0.5]
 [ 1. ]]
stand_parms is
 {&#39;Xmeans&#39;: array([[0]]), &#39;Xstds&#39;: array([[1]]), &#39;Tmeans&#39;: array([[0]]), &#39;Tstds&#39;: array([[1]])}

--- 10/10 points. Returned correct values in gradients.

## Testing ####################################################################

    X = np.arange(4).reshape(-1, 1) + 5
    T = np.array([1, 2, -3, -4]).reshape((-1, 1))
    Ws = make_weights(1, [3, 4], 1)
    for W in Ws:
        W[:] = np.linspace(-1, 1, W.size).reshape(W.shape)
    print(&#39;X is&#39;)
    print(X)
    print(&#39;T is&#39;)
    print(T)
    print_layers(&#39;Ws is&#39;, Ws)

    Ws, stand_parms, error_trace = train_sgd_asig(X, T, Ws, 0.1, 100)

X is
 [[5]
 [6]
 [7]
 [8]]
T is
 [[ 1]
 [ 2]
 [-3]
 [-4]]
Ws is:
 Layer 0:
 [[-1.  -0.6 -0.2]
 [ 0.2  0.6  1. ]]
 Layer 1:
 [[-1.         -0.86666667 -0.73333333 -0.6       ]
 [-0.46666667 -0.33333333 -0.2        -0.06666667]
 [ 0.06666667  0.2         0.33333333  0.46666667]
 [ 0.6         0.73333333  0.86666667  1.        ]]
 Layer 2:
 [[-1. ]
 [-0.5]
 [ 0. ]
 [ 0.5]
 [ 1. ]]

--- 10/10 points. Returned correct values in Ws.

--- 10/10 points. Returned correct final error in error_trace.

======================================================================
A2 Execution Grade is 60 / 60
======================================================================

__ / 10 points. Correct implementation of for loop to train neural nets with one, two, three
                and four hidden layers each with 4 hidden units. Train each for 10,000 epochs
                and a learning rate of 0.1.

__ / 10 points. Construction of pandas dataframe to display results of above four loop.

__ / 10 points. Good discussion of the results from the four loop.  Use at least four sentences.

__ / 10 points. Good discussion of results you get with the above loop using the asymmetric sigmoid
                activation function.  Use at least six sentences.  In your discussion, compare differences
                and similarities between the results for tanh and asymmetric sigmoid.

======================================================================
A2 Results and Discussion Grade is ___ / 40
======================================================================

======================================================================
A2 FINAL GRADE is  _  / 100
======================================================================
</pre>
</div>
</div>

</div>
</div>

</div>
<div class="cell border-box-sizing text_cell rendered"><div class="prompt input_prompt">
</div><div class="inner_cell">
<div class="text_cell_render border-box-sizing rendered_html">
<h1 id="Check-In">Check-In<a class="anchor-link" href="#Check-In">&#182;</a></h1><p>Do not include this section in your notebook.</p>
<p>Name your notebook <code>Lastname-A2.ipynb</code>.  So, for me it would be <code>Anderson-A2.ipynb</code>.  Submit the file using the <code>Assignment 2</code> link on <a href="https://colostate.instructure.com/courses/109894">Canvas</a>.</p>

</div>
</div>
</div>
<div class="cell border-box-sizing text_cell rendered"><div class="prompt input_prompt">
</div><div class="inner_cell">
<div class="text_cell_render border-box-sizing rendered_html">
<h1 id="Extra-Credit">Extra Credit<a class="anchor-link" href="#Extra-Credit">&#182;</a></h1><p>Apply your multilayer neural network code to a regression problem using data that you choose 
from the <a href="https://archive.ics.uci.edu/ml/datasets.php">UCI Machine Learning Repository</a>. Pick a dataset that
is listed as being appropriate for regression.</p>

</div>
</div>
</div>
 


    </div>
  </div>

  </div>


  
    <footer class="footer hidden-print">
      <div class="container">
        <div class="col-md-4">
          <p>
            This website does not host notebooks, it only renders notebooks
            available on other websites.
          </p>
        </div>

        <div class="col-md-4">
          <p>
            Delivered by <a href="https://www.fastly.com/">Fastly</a>,
            Rendered by <a href="https://ovhcloud.com">OVHCloud</a>
          </p>
          <p>
            nbviewer GitHub <a href="https://github.com/jupyter/nbviewer">repository</a>.
          </p>
        </div>

        <div class="col-md-4">
          
  
            
              <p>
                nbviewer version:
                <a href="https://github.com/jupyter/nbviewer/commit/e83752b49e1663d3feb1c157d31fb51451f11c0a">
                  e83752b
                </a>
              </p>
            
          
  
  <p>
    nbconvert version: <a href="https://github.com/jupyter/nbconvert/releases/tag/5.6.1">
      5.6.1
    </a>
  </p>
  

          
  
  
  <p>
    Rendered
    <span class='date' data-date='Tue, 13 Oct 2020 04:41:30 UTC' title='Tue, 13 Oct 2020 04:41:30 UTC'>(Tue, 13 Oct 2020 04:41:30 UTC)</span>
  </p>
  

        </div>
      </div>
    </footer>
  

  <script src="/static/components/bootstrap/js/bootstrap.min.js"></script>
  <script src="/static/components/headroom.js/dist/headroom.min.js"></script>
  <script src="/static/components/headroom.js/dist/jQuery.headroom.min.js"></script>

  
  
  <script>
    $(function(){ $("#menubar").headroom({
      tolerance: 5,
      offset: 205,
      classes: {
        initial: "animated",
        pinned: "slideInDown",
        unpinned: "slideOutUp"
      }
    })});
  </script>


  
  <script>
    (function(i,s,o,g,r,a,m){i['GoogleAnalyticsObject']=r;i[r]=i[r]||function(){
      (i[r].q=i[r].q||[]).push(arguments)},i[r].l=1*new Date();a=s.createElement(o),
      m=s.getElementsByTagName(o)[0];a.async=1;a.src=g;m.parentNode.insertBefore(a,m)
    })(window,document,'script','https://www.google-analytics.com/analytics.js','ga');
    ga('create', 'UA-52617120-5', 'auto',
       {'storage': 'none'});
    ga('set', 'anonymizeIp', true);
    ga('send', 'pageview');
  </script>
  
  <script>
    require({
        paths: {
          moment: "/static/components/moment/min/moment.min.js"
        }
      }, ["moment"], function(moment){
      var date = $("footer .date"),
        m = moment(new Date(date.data('date'))),
        update = function(){ date.text(m.fromNow()); };
      setInterval(update, 61*1000);
      update();
      var w = $(window).scroll(function(event){
        $("body").toggleClass("scrolled", w.scrollTop() > 0);
      });
    });
  </script>

  <!--NEW RELIC Stop Perf Measurement-->
  
  <!--NEW RELIC End-->
</body>
</html>