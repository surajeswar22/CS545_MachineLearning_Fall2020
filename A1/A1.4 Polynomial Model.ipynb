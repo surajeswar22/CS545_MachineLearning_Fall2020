{
 "cells": [
  {
   "cell_type": "markdown",
   "metadata": {},
   "source": [
    "# Assignment 1.4: Polynomial Model\n",
    "\n",
    "* *Version 1.4: Added division by `n_samples` in gradient expression. Also inserted the transpose back in to the math expression just before the def polynomial_model line.*\n",
    "* *Version 1.3: Changed 'linear model' to 'polynomial model' when referring to what to plot.*\n",
    "* *Version 1.2: The mathematical expression just before `polynomial_gradient(X, T, W):` incorrectly had the transpose of the matrix of powers of X.  The transpose has been removed from this most recent version.*\n",
    "* *Version 1.1: Added all details, including grading script.  Also removed the sentence the steps for defining and plotting X and T for the air quality experiments being different from lecture.  It is not different from what was done in lecture.*"
   ]
  },
  {
   "cell_type": "markdown",
   "metadata": {},
   "source": [
    "*Replace this line with your name.*"
   ]
  },
  {
   "cell_type": "markdown",
   "metadata": {},
   "source": [
    "In this first assignment, you will write and apply python code that performs gradient descent to fit a polynomial model to the air quality data discussed in the lecture during the first week.  "
   ]
  },
  {
   "cell_type": "markdown",
   "metadata": {},
   "source": [
    "Write code to implement a polynomial that returns the result\n",
    "\n",
    "$$f(x) = w_0 + w_1 x + w_2 x^2 + \\cdots + w_{p-1} x^{p-1}$$\n",
    "\n",
    "Name this function `polynomial_model` that is called with two arguments, a column matrix of input values with number of rows equal to the number of samples, and a column matrix of weights with the number of rows equal to the number of powers $p$ to use. Notice that the first term on the right-hand side is actually $w_0 x^0$.\n",
    "\n",
    "* `polynomial_model(X, W)`:\n",
    "    * Given\n",
    "        * `X`, an n_samples x 1 numpy array of input samples\n",
    "        * `W`, an n_powers x 1 numpy array of weight values\n",
    "    * Return\n",
    "        * an n_samples x 1 numpy array of the model's predicted outputs for each sample in `X`."
   ]
  },
  {
   "cell_type": "markdown",
   "metadata": {},
   "source": [
    "Now implement the gradient of the mean-squared-error between the target values in `T` and the model's output, with respect to the weights, `W`.\n",
    "\n",
    "$$ \\begin{align*}\n",
    "\\nabla_W E\n",
    "&= \\nabla_Y E \\; \\nabla_W Y\\\\\n",
    "&= -2 (T - Y) \\; \\nabla_W Y\\\\\n",
    "&= -2 (T - Y) \\; [1,\\; x,\\; x^2,\\; x^3,\\; \\ldots,\\; x^{p-1}]\n",
    "\\end{align*}$$\n",
    "\n",
    "for one sample $x$.  With $X$ being a matrix of multiples samples, one per row, we must modify the equation to this. Notice the transpose of the matrix of powers of $X$.  <font color=red>The following expression is now divided by `n_samples`.</font>\n",
    "\n",
    "$$\\nabla_W E = [1,\\; X,\\; X^2,\\; X^3,\\; \\ldots,\\; X^{p-1}]^T \\;(-2)\\; (T - Y) \\;/\\; \\text{n_samples}$$\n",
    "\\;\n",
    "* `polynomial_gradient(X, T, W)`:\n",
    "   * Given\n",
    "       * `X`, an n_samples x 1 numpy array of input samples\n",
    "       * `T`, an n_samples x 1 numpy array of correct outputs (targets) for each input sample\n",
    "       * `W`, an n_powers x 1 numpy array of weight values\n",
    "    * Return\n",
    "       * an n_powers x 1 numpy array of the gradient of the mean squared error with respect to each weight. (Same shape is W.)"
   ]
  },
  {
   "cell_type": "markdown",
   "metadata": {},
   "source": [
    "Download the air quality data and prepare the `X` and `T` matrices as shown in the following code cells. Plot `CO(GT)` air quality (on the y axis) versus the hour of the day (on the x axis) to verify you have prepared the data correctly.\n",
    "\n",
    "Use the `gradient_descent_adam` function defined in the lecture notes to find the best weights for the polynomial model, as illustrated in lecture.  Plot the RMSE versus iterations, plot the weights versus the number of steps, and plot the air quality versus hour of the day again and superimpose the polynomial model on the same graph."
   ]
  },
  {
   "cell_type": "markdown",
   "metadata": {},
   "source": [
    "## Simple Test of your Code"
   ]
  },
  {
   "cell_type": "markdown",
   "metadata": {},
   "source": [
    "Let's copy and paste two of the functions used in lecture for use here."
   ]
  },
  {
   "cell_type": "code",
   "execution_count": 3,
   "metadata": {},
   "outputs": [],
   "source": [
    "import numpy as np\n",
    "import matplotlib.pyplot as plt\n",
    "import pandas"
   ]
  },
  {
   "cell_type": "code",
   "execution_count": 4,
   "metadata": {},
   "outputs": [],
   "source": [
    "def gradient_descent_adam(model_f, gradient_f, rmse_f, X, T, W, rho, nSteps):\n",
    "    # Commonly used parameter values\n",
    "    alpha = rho\n",
    "    beta1 = 0.9\n",
    "    beta2 = 0.999\n",
    "    epsilon = 1e-8\n",
    "    m = 0\n",
    "    v = 0\n",
    "    \n",
    "    error_sequence = []\n",
    "    W_sequence = []\n",
    "    for step in range(nSteps):\n",
    "        error_sequence.append(rmse_f(model_f, X, T, W))\n",
    "        W_sequence.append(W.flatten())\n",
    "        \n",
    "        g = gradient_f(X, T, W)\n",
    "        m = beta1 * m + (1 - beta1) * g\n",
    "        v = beta2 * v + (1 - beta2) * g * g\n",
    "        mhat = m / (1 - beta1 ** (step+1))\n",
    "        vhat = v / (1 - beta2 ** (step+1))\n",
    "        W -= alpha * mhat / (np.sqrt(vhat) + epsilon)\n",
    "        \n",
    "    return W, error_sequence, W_sequence\n",
    "\n",
    "\n",
    "def rmse(model, X, T, W):\n",
    "    return np.sqrt(np.mean(  (T - model(X, W)) **2 )  )"
   ]
  },
  {
   "cell_type": "code",
   "execution_count": 5,
   "metadata": {},
   "outputs": [
    {
     "data": {
      "text/plain": [
       "[<matplotlib.lines.Line2D at 0x7f4c3c25b190>]"
      ]
     },
     "execution_count": 5,
     "metadata": {},
     "output_type": "execute_result"
    },
    {
     "data": {
      "image/png": "[encoded data removed]",
      "text/plain": [
       "<Figure size 432x288 with 1 Axes>"
      ]
     },
     "metadata": {
      "needs_background": "light"
     },
     "output_type": "display_data"
    }
   ],
   "source": [
    "X = np.linspace(-10, 10, 100).reshape(-1, 1)\n",
    "T = np.sin(X) * np.abs(X)\n",
    "plt.plot(X, T);"
   ]
  },
  {
   "cell_type": "code",
   "execution_count": 17,
   "metadata": {},
   "outputs": [],
   "source": [
    "n_powers = 5\n",
    "W = np.zeros((n_powers, 1))  # Initial weights\n",
    "             \n",
    "rho = 0.01  # learning rate\n",
    "n_steps = 100  # number of updates to W\n",
    "\n",
    "W, error_sequence, W_sequence = gradient_descent_adam(polynomial_model, \n",
    "                                                      polynomial_gradient, \n",
    "                                                      rmse,\n",
    "                                                      X, T, W, \n",
    "                                                      rho, n_steps)"
   ]
  },
  {
   "cell_type": "code",
   "execution_count": 18,
   "metadata": {},
   "outputs": [
    {
     "data": {
      "image/png": "[encoded data removed]",
      "text/plain": [
       "<Figure size 432x288 with 1 Axes>"
      ]
     },
     "metadata": {
      "needs_background": "light"
     },
     "output_type": "display_data"
    }
   ],
   "source": [
    "plt.plot(error_sequence)\n",
    "plt.xlabel('Number of Epochs')\n",
    "plt.ylabel('RMSE');"
   ]
  },
  {
   "cell_type": "code",
   "execution_count": 22,
   "metadata": {},
   "outputs": [
    {
     "data": {
      "image/png": "[encoded data removed]",
      "text/plain": [
       "<Figure size 432x288 with 1 Axes>"
      ]
     },
     "metadata": {
      "needs_background": "light"
     },
     "output_type": "display_data"
    }
   ],
   "source": [
    "plt.plot(X, T, '.', label='Training Data')\n",
    "plt.plot(X, polynomial_model(X, W), label=f'Polynomial ({n_powers})')\n",
    "plt.xlabel('X')\n",
    "plt.ylabel('Y')\n",
    "plt.legend();"
   ]
  },
  {
   "cell_type": "markdown",
   "metadata": {},
   "source": [
    "# Air Quality Data"
   ]
  },
  {
   "cell_type": "markdown",
   "metadata": {},
   "source": [
    "Download the air quality data and prepare the `X` and `T` matrices as shown in the following code cells.  When done correctly, `X` and `T` should both have shape `(827, 1)`.  Plot `CO(GT)` air quality (on the y axis) versus the hour of the day (on the x axis) to verify you have prepared the data correctly.\n",
    "\n",
    "Use the `gradient_descent_adam` function defined in the lecture notes to find the best weights for the polynomial model, as illustrated in lecture.  Plot the RMSE versus iterations, plot the weights versus the number of steps, and plot the air quality versus hour of the day again and superimpose the polynomial model on the same graph."
   ]
  },
  {
   "cell_type": "markdown",
   "metadata": {},
   "source": [
    "Now apply the Adam optimization function to fit a polynomial to this data.  Try several different values of `n_powers` and `n_steps`.  Plot the results and describe what you see."
   ]
  },
  {
   "cell_type": "markdown",
   "metadata": {},
   "source": [
    "# Grading\n",
    "\n",
    "Your notebook will be run and graded automatically. Test this grading process by first downloading [A1grader.tar](http://www.cs.colostate.edu/~anderson/cs545/notebooks/A1grader.tar) (to be provided soon) and extract `A1grader.py` from it. Run the code in the following cell to demonstrate an example grading session. You should see a perfect execution score of 60/60 if your functions are defined correctly. The remaining 40 points will be based on other testing and the results you obtain and your discussions. \n",
    "\n",
    "A different, but similar, grading script will be used to grade your checked-in notebook. It will include additional tests. You should design and perform additional tests on all of your functions to be sure they run correctly before checking in your notebook.  \n",
    "\n",
    "For the grading script to run correctly, you must first name this notebook as 'Lastname-A1.ipynb' with 'Lastname' being your last name, and then save this notebook."
   ]
  },
  {
   "cell_type": "code",
   "execution_count": 2,
   "metadata": {
    "scrolled": true
   },
   "outputs": [
    {
     "name": "stdout",
     "output_type": "stream",
     "text": [
      "\n",
      "======================= Code Execution =======================\n",
      "\n",
      "Extracting python code from notebook named 'Anderson-A1.ipynb' and storing in notebookcode.py\n",
      "Removing all statements that are not function or class defs or import statements.\n",
      "\n",
      "Testing\n",
      "    X = np.array([1, -2, 3, -4, 5, -8, 9, -10]).reshape((-1, 1))\n",
      "    W = np.ones((4, 1))\n",
      "    Y = polynomial_model(X, W)\n",
      "\n",
      "\n",
      "--- 20/20 points. Returned correct values.\n",
      "\n",
      "Testing\n",
      "    X = np.array([1, -2, 3, -4, 5, -8, 9, -10]).reshape((-1, 1))\n",
      "    W = np.ones((4, 1))\n",
      "    Y = polynomial_model(X, W)\n",
      "    T = np.array([[   4.2],\n",
      "                  [  -4.8],\n",
      "                  [  40.2],\n",
      "                  [ -50.8],\n",
      "                  [ 156.2],\n",
      "                  [-454.8],\n",
      "                  [ 820.2],\n",
      "                  [-908.8]])\n",
      "    gradient = polynomial_gradient(X, T, W)\n",
      "\n",
      "\n",
      "--- 20/20 points. Returned correct values.\n",
      "\n",
      "Testing\n",
      "    X = np.array([1, 2, 3, 4, 5, 8, 9, 11]).reshape((-1, 1))\n",
      "    T = (X - 5) * 0.05 + 0.002 * (X - 8)**2\n",
      "    W = np.zeros((5, 1))\n",
      "    rho = 0.01\n",
      "    n_steps = 100\n",
      "    W, _, _ = gradient_descent_adam(polynomial_model, polynomial_gradient, rmse,\n",
      "                                    X, T, W, rho, n_steps)\n",
      "\n",
      "\n",
      "--- 20/20 points. Returned correct values.\n",
      "\n",
      "======================================================================\n",
      "A1 Execution Grade is 60 / 60\n",
      "======================================================================\n",
      "\n",
      "__ / 10 Reading in air quality data and plotting it correctly.\n",
      "\n",
      "__ / 10 points. Applying the Adam optimizer to the air quality data using your polynomial model and gradient correctly.\n",
      "\n",
      "__ / 10 points.  Plotting the resulting error curve in one graph and plotting the model predictions on top of data\n",
      "        correctly.  Also describe what you observe in these two graphs with at least five total sentences.\n",
      "\n",
      "__ / 10 points. Show and describe results for three different values of n_powers and also for three different values of n_steps,\n",
      "                Describe what you see with at least eight sentences.\n",
      "\n",
      "======================================================================\n",
      "A1 Results and Discussion Grade is ___ / 40\n",
      "======================================================================\n",
      "\n",
      "======================================================================\n",
      "A1 FINAL GRADE is  _  / 100\n",
      "======================================================================\n"
     ]
    }
   ],
   "source": [
    "%run -i A1grader.py"
   ]
  },
  {
   "cell_type": "markdown",
   "metadata": {},
   "source": [
    "# Check-In"
   ]
  },
  {
   "cell_type": "markdown",
   "metadata": {},
   "source": [
    "Do not include this section in your notebook.\n",
    "\n",
    "Name your notebook ```Lastname-A1.ipynb```.  So, for me it would be ```Anderson-A1.ipynb```.  Submit the file using the ```Assignment 1``` link on [Canvas](https://colostate.instructure.com/courses/109894).\n",
    "\n",
    "Grading will be based on \n",
    "\n",
    "  * correct behavior of the required functions listed above,\n",
    "  * easy to understand plots in your notebook,\n",
    "  * readability of the notebook,\n",
    "  * effort in making interesting observations, and in formatting your notebook."
   ]
  }
 ],
 "metadata": {
  "kernelspec": {
   "display_name": "Python 3",
   "language": "python",
   "name": "python3"
  },
  "language_info": {
   "codemirror_mode": {
    "name": "ipython",
    "version": 3
   },
   "file_extension": ".py",
   "mimetype": "text/x-python",
   "name": "python",
   "nbconvert_exporter": "python",
   "pygments_lexer": "ipython3",
   "version": "3.8.3"
  },
  "toc": {
   "base_numbering": 1,
   "nav_menu": {},
   "number_sections": true,
   "sideBar": true,
   "skip_h1_title": false,
   "title_cell": "Table of Contents",
   "title_sidebar": "Contents",
   "toc_cell": false,
   "toc_position": {},
   "toc_section_display": true,
   "toc_window_display": false
  },
  "varInspector": {
   "cols": {
    "lenName": 16,
    "lenType": 16,
    "lenVar": 40
   },
   "kernels_config": {
    "python": {
     "delete_cmd_postfix": "",
     "delete_cmd_prefix": "del ",
     "library": "var_list.py",
     "varRefreshCmd": "print(var_dic_list())"
    },
    "r": {
     "delete_cmd_postfix": ") ",
     "delete_cmd_prefix": "rm(",
     "library": "var_list.r",
     "varRefreshCmd": "cat(var_dic_list()) "
    }
   },
   "types_to_exclude": [
    "module",
    "function",
    "builtin_function_or_method",
    "instance",
    "_Feature"
   ],
   "window_display": false
  }
 },
 "nbformat": 4,
 "nbformat_minor": 2
}
