{
 "cells": [
  {
   "cell_type": "markdown",
   "metadata": {
    "toc": true
   },
   "source": [
    "<h1>Table of Contents<span class=\"tocSkip\"></span></h1>\n",
    "<div class=\"toc\"><ul class=\"toc-item\"><li><span><a href=\"#Neural-Network-Classes\" data-toc-modified-id=\"Neural-Network-Classes-1\"><span class=\"toc-item-num\">1&nbsp;&nbsp;</span>Neural Network Classes</a></span></li><li><span><a href=\"#Additional-Required-Functions\" data-toc-modified-id=\"Additional-Required-Functions-2\"><span class=\"toc-item-num\">2&nbsp;&nbsp;</span>Additional Required Functions</a></span></li><li><span><a href=\"#Application-to-Three-Data-Sets\" data-toc-modified-id=\"Application-to-Three-Data-Sets-3\"><span class=\"toc-item-num\">3&nbsp;&nbsp;</span>Application to Three Data Sets</a></span></li><li><span><a href=\"#Grading\" data-toc-modified-id=\"Grading-4\"><span class=\"toc-item-num\">4&nbsp;&nbsp;</span>Grading</a></span></li><li><span><a href=\"#Extra-Credit\" data-toc-modified-id=\"Extra-Credit-5\"><span class=\"toc-item-num\">5&nbsp;&nbsp;</span>Extra Credit</a></span></li></ul></div>"
   ]
  },
  {
   "cell_type": "markdown",
   "metadata": {},
   "source": [
    "<font size=10>Neural Networks in Pytorch</font>"
   ]
  },
  {
   "cell_type": "markdown",
   "metadata": {},
   "source": [
    "In this assignment, you will\n",
    "1. complete the implementations of neural network classes,\n",
    "2. define the new function `multiple_runs_classification`,\n",
    "3. define the new function `multiple_runs_convolutional`,\n",
    "4. copy and paste `percent_correct` and `confusion_matrx` from previous notes,\n",
    "4. present and discuss regression results on automobile MPG data,\n",
    "5. present and discuss classification results on diabetes data,\n",
    "6. present and discuss classification results on small version of MNIST data."
   ]
  },
  {
   "cell_type": "markdown",
   "metadata": {},
   "source": [
    "# Neural Network Classes"
   ]
  },
  {
   "cell_type": "code",
   "execution_count": 1,
   "metadata": {
    "ExecuteTime": {
     "end_time": "2020-11-06T23:15:15.882432Z",
     "start_time": "2020-11-06T23:15:15.516428Z"
    }
   },
   "outputs": [],
   "source": [
    "import numpy as np\n",
    "import matplotlib.pyplot as plt\n",
    "import torch"
   ]
  },
  {
   "cell_type": "markdown",
   "metadata": {},
   "source": [
    "For this assignment, start with implementations of the following classes:\n",
    "* `NeuralNetworkTorch`: copied and pasted from Lecture Notes 16.1\n",
    "* `NeuralNetworkClassifierTorch`: copied and pasted from Lecture Notes 16.1\n",
    "* `NeuralNetworkClassifierConvolutionalTorch`: copied and pasted from Lecture Notes 16.1 and completed.\n",
    "\n",
    "The `train` functions in this classes have two additional arguments, `Xval`nad `Tval`:\n",
    "\n",
    "```python\n",
    "   def train(self, Xtrain, Ttrain, n_epochs, learning_rate=0.01, method='adam', verbose=True, \n",
    "             Xval=None, Tval=None):\n",
    "```\n",
    "\n",
    "where `Xtrain` and `Ttrain` are the usual two arguments used to train the network, and `Xval` and `Tval` are the validation data matrices.  `Xval` and `Tval` are only used to calculate the performance (MSE or NLL) once per epoch.  If the performance is better than the best so far, update an array that is storing the best weight values so far, and also update the best performance so far.  When training is complete, copy the stored best-so-far weights back into the network.  If `Xval` is `None`, then this step is ignored and the weights in the neural network at the end of training are not modified."
   ]
  },
  {
   "cell_type": "markdown",
   "metadata": {},
   "source": [
    "# Additional Required Functions"
   ]
  },
  {
   "cell_type": "markdown",
   "metadata": {},
   "source": [
    "Include in this notebook the following functions we have defined before\n",
    "* `percent_correct`\n",
    "* `partition`\n",
    "* `multiple_runs_regression`\n",
    "\n",
    "and define two new functions\n",
    "* `multiple_runs_classification`\n",
    "* `multiple_runs_convolutional`\n",
    "\n",
    "based on `multiple_runs_regression`."
   ]
  },
  {
   "cell_type": "markdown",
   "metadata": {},
   "source": [
    "Here is another function that you must use to analyze the performance for your two classification problems."
   ]
  },
  {
   "cell_type": "code",
   "execution_count": 3,
   "metadata": {
    "ExecuteTime": {
     "end_time": "2020-11-06T23:15:15.993708Z",
     "start_time": "2020-11-06T23:15:15.991020Z"
    }
   },
   "outputs": [],
   "source": [
    "def confusion_matrix(Y_classes, T):\n",
    "    class_names = np.unique(T)\n",
    "    table = []\n",
    "    for true_class in class_names:\n",
    "        row = []\n",
    "        for Y_class in class_names:\n",
    "            row.append(100 * np.mean(Y_classes[T == true_class] == Y_class))\n",
    "        table.append(row)\n",
    "    conf_matrix = pd.DataFrame(table, index=class_names, columns=class_names)\n",
    "    conf_matrix.style.background_gradient(cmap='Blues').format(\"{:.1f}\")\n",
    "    print(f'Percent Correct is {percent_correct(Y_classes, T)}')\n",
    "    return conf_matrix"
   ]
  },
  {
   "cell_type": "markdown",
   "metadata": {},
   "source": [
    "Here are examples of running `multiple_runs_classification` and `multiple_runs_convolutional`."
   ]
  },
  {
   "cell_type": "code",
   "execution_count": 4,
   "metadata": {
    "ExecuteTime": {
     "end_time": "2020-11-06T23:15:16.053723Z",
     "start_time": "2020-11-06T23:15:15.994661Z"
    }
   },
   "outputs": [
    {
     "data": {
      "text/plain": [
       "((1000, 400), (1000, 1))"
      ]
     },
     "execution_count": 4,
     "metadata": {},
     "output_type": "execute_result"
    }
   ],
   "source": [
    "def makeImages(nEach):\n",
    "    images = np.zeros((nEach * 2, 1, 20, 20))  # nSamples, nChannels, rows, columns\n",
    "    radii = 3 + np.random.randint(10 - 5, size=(nEach * 2, 1))\n",
    "    centers = np.zeros((nEach * 2, 2))\n",
    "    for i in range(nEach * 2):\n",
    "        r = radii[i, 0]\n",
    "        centers[i, :] = r + 1 + np.random.randint(18 - 2 * r, size=(1, 2))\n",
    "        x = int(centers[i, 0])\n",
    "        y = int(centers[i, 1])\n",
    "        if i < nEach:\n",
    "            # squares\n",
    "            images[i, 0, x - r:x + r, y + r] = 1.0\n",
    "            images[i, 0, x - r:x + r, y - r] = 1.0\n",
    "            images[i, 0, x - r, y - r:y + r] = 1.0\n",
    "            images[i, 0, x + r, y - r:y + r + 1] = 1.0\n",
    "        else:\n",
    "            # diamonds\n",
    "            images[i, 0, range(x - r, x), range(y, y + r)] = 1.0\n",
    "            images[i, 0, range(x - r, x), range(y, y - r, -1)] = 1.0\n",
    "            images[i, 0, range(x, x + r + 1), range(y + r, y - 1, -1)] = 1.0\n",
    "            images[i, 0, range(x, x + r), range(y - r, y)] = 1.0\n",
    "            # images += np.random.randn(*images.shape) * 0.5\n",
    "        T = np.zeros((nEach * 2, 1))\n",
    "        T[nEach:] = 1\n",
    "    return images, T\n",
    "\n",
    "nEach = 500\n",
    "X, T = makeImages(nEach)\n",
    "Xflat = X.reshape(X.shape[0], -1)\n",
    "Xflat.shape, T.shape"
   ]
  },
  {
   "cell_type": "code",
   "execution_count": 5,
   "metadata": {
    "ExecuteTime": {
     "end_time": "2020-11-06T23:15:38.784561Z",
     "start_time": "2020-11-06T23:15:16.054596Z"
    }
   },
   "outputs": [
    {
     "name": "stdout",
     "output_type": "stream",
     "text": [
      "Structure []: Repetition 1 2 3 4 5 6 7 8 9 10 \n",
      "Structure [2]: Repetition 1 2 3 4 5 6 7 8 9 10 \n",
      "Structure [5]: Repetition 1 2 3 4 5 6 7 8 9 10 \n",
      "Structure [10]: Repetition 1 2 3 4 5 6 7 8 9 10 \n",
      "Structure [20, 20]: Repetition 1 2 3 4 5 6 7 8 9 10 \n"
     ]
    }
   ],
   "source": [
    "fractions = (0.6, 0.2, 0.2)\n",
    "n_hiddens_list = [[], [2], [5], [10], [20, 20]]  # Notice the first one... []\n",
    "n_epochs = 500\n",
    "learning_rate = 0.01\n",
    "\n",
    "n_partitions = 10\n",
    "\n",
    "results = []\n",
    "for nh in n_hiddens_list:\n",
    "    results.extend(multiple_runs_classification(n_partitions, Xflat, T, fractions, nh, n_epochs, learning_rate))\n",
    "    \n",
    "resultsdf = pd.DataFrame(results, columns=('Structure', 'Partition', 'RMSE'))"
   ]
  },
  {
   "cell_type": "code",
   "execution_count": 6,
   "metadata": {
    "ExecuteTime": {
     "end_time": "2020-11-06T23:15:39.339147Z",
     "start_time": "2020-11-06T23:15:38.793690Z"
    },
    "scrolled": false
   },
   "outputs": [
    {
     "data": {
      "image/png": "[encoded data removed]",
      "text/plain": [
       "<Figure size 864x720 with 1 Axes>"
      ]
     },
     "metadata": {
      "needs_background": "light"
     },
     "output_type": "display_data"
    }
   ],
   "source": [
    "import seaborn as sns\n",
    "\n",
    "plt.figure(figsize=(12, 10))\n",
    "sns.violinplot(x='Structure', y='RMSE', hue='Partition', data=resultsdf)\n",
    "for x in range(len(n_hiddens_list) - 1):\n",
    "    plt.axvline(x + 0.5, color='r', linestyle='--', alpha=0.5)"
   ]
  },
  {
   "cell_type": "markdown",
   "metadata": {},
   "source": [
    "Based on results in violin plots, pick best network structure (according to performance in validation data) and train a network using that structure.  Then apply the trained network using `nnet.use` on the training, validation and testing partitions.  Report the performance of each, and, for classification problems, show the confusion matrices.  See examples below."
   ]
  },
  {
   "cell_type": "code",
   "execution_count": 7,
   "metadata": {
    "ExecuteTime": {
     "end_time": "2020-11-06T23:15:40.081938Z",
     "start_time": "2020-11-06T23:15:39.340041Z"
    }
   },
   "outputs": [
    {
     "name": "stdout",
     "output_type": "stream",
     "text": [
      "Epoch 50 LL train 0.9950 val 0.8856\n",
      "Epoch 100 LL train 0.9983 val 0.8740\n",
      "Epoch 150 LL train 0.9990 val 0.8687\n",
      "Epoch 200 LL train 0.9993 val 0.8653\n",
      "Epoch 250 LL train 0.9994 val 0.8621\n",
      "Epoch 300 LL train 0.9995 val 0.8592\n",
      "Epoch 350 LL train 0.9996 val 0.8565\n",
      "Epoch 400 LL train 0.9997 val 0.8540\n",
      "Epoch 450 LL train 0.9997 val 0.8517\n",
      "Epoch 500 LL train 0.9998 val 0.8496\n"
     ]
    },
    {
     "data": {
      "text/plain": [
       "NeuralNetworkClassifierTorch(400, [10], 2, device=cpu)"
      ]
     },
     "execution_count": 7,
     "metadata": {},
     "output_type": "execute_result"
    }
   ],
   "source": [
    "nnet = NeuralNetworkClassifierTorch(Xflat.shape[1], [10], len(np.unique(T)))\n",
    "Xtrain, Ttrain, Xval, Tval, Xtest, Ttest = partition(Xflat, T, (0.6, 0.2, 0.2),\n",
    "                                         shuffle=True, classification=True)\n",
    "nnet.train(Xtrain, Ttrain, n_epochs, learning_rate, method='adam', Xval=Xval, Tval=Tval, verbose=True)"
   ]
  },
  {
   "cell_type": "code",
   "execution_count": 8,
   "metadata": {
    "ExecuteTime": {
     "end_time": "2020-11-06T23:15:40.224876Z",
     "start_time": "2020-11-06T23:15:40.086459Z"
    }
   },
   "outputs": [
    {
     "name": "stdout",
     "output_type": "stream",
     "text": [
      "Percent Correct is 100.0\n"
     ]
    },
    {
     "data": {
      "text/html": [
       "<div>\n",
       "<style scoped>\n",
       "    .dataframe tbody tr th:only-of-type {\n",
       "        vertical-align: middle;\n",
       "    }\n",
       "\n",
       "    .dataframe tbody tr th {\n",
       "        vertical-align: top;\n",
       "    }\n",
       "\n",
       "    .dataframe thead th {\n",
       "        text-align: right;\n",
       "    }\n",
       "</style>\n",
       "<table border=\"1\" class=\"dataframe\">\n",
       "  <thead>\n",
       "    <tr style=\"text-align: right;\">\n",
       "      <th></th>\n",
       "      <th>0.0</th>\n",
       "      <th>1.0</th>\n",
       "    </tr>\n",
       "  </thead>\n",
       "  <tbody>\n",
       "    <tr>\n",
       "      <th>0.0</th>\n",
       "      <td>100.0</td>\n",
       "      <td>0.0</td>\n",
       "    </tr>\n",
       "    <tr>\n",
       "      <th>1.0</th>\n",
       "      <td>0.0</td>\n",
       "      <td>100.0</td>\n",
       "    </tr>\n",
       "  </tbody>\n",
       "</table>\n",
       "</div>"
      ],
      "text/plain": [
       "       0.0    1.0\n",
       "0.0  100.0    0.0\n",
       "1.0    0.0  100.0"
      ]
     },
     "execution_count": 8,
     "metadata": {},
     "output_type": "execute_result"
    }
   ],
   "source": [
    "C_train, P_train = nnet.use(Xtrain)\n",
    "confusion_matrix(C_train, Ttrain)"
   ]
  },
  {
   "cell_type": "code",
   "execution_count": 9,
   "metadata": {
    "ExecuteTime": {
     "end_time": "2020-11-06T23:15:40.240134Z",
     "start_time": "2020-11-06T23:15:40.228482Z"
    }
   },
   "outputs": [
    {
     "name": "stdout",
     "output_type": "stream",
     "text": [
      "Percent Correct is 97.0\n"
     ]
    },
    {
     "data": {
      "text/html": [
       "<div>\n",
       "<style scoped>\n",
       "    .dataframe tbody tr th:only-of-type {\n",
       "        vertical-align: middle;\n",
       "    }\n",
       "\n",
       "    .dataframe tbody tr th {\n",
       "        vertical-align: top;\n",
       "    }\n",
       "\n",
       "    .dataframe thead th {\n",
       "        text-align: right;\n",
       "    }\n",
       "</style>\n",
       "<table border=\"1\" class=\"dataframe\">\n",
       "  <thead>\n",
       "    <tr style=\"text-align: right;\">\n",
       "      <th></th>\n",
       "      <th>0.0</th>\n",
       "      <th>1.0</th>\n",
       "    </tr>\n",
       "  </thead>\n",
       "  <tbody>\n",
       "    <tr>\n",
       "      <th>0.0</th>\n",
       "      <td>96.0</td>\n",
       "      <td>4.0</td>\n",
       "    </tr>\n",
       "    <tr>\n",
       "      <th>1.0</th>\n",
       "      <td>2.0</td>\n",
       "      <td>98.0</td>\n",
       "    </tr>\n",
       "  </tbody>\n",
       "</table>\n",
       "</div>"
      ],
      "text/plain": [
       "      0.0   1.0\n",
       "0.0  96.0   4.0\n",
       "1.0   2.0  98.0"
      ]
     },
     "execution_count": 9,
     "metadata": {},
     "output_type": "execute_result"
    }
   ],
   "source": [
    "C_val, P_val = nnet.use(Xval)\n",
    "confusion_matrix(C_val, Tval)"
   ]
  },
  {
   "cell_type": "code",
   "execution_count": 10,
   "metadata": {
    "ExecuteTime": {
     "end_time": "2020-11-06T23:15:40.256290Z",
     "start_time": "2020-11-06T23:15:40.243927Z"
    }
   },
   "outputs": [
    {
     "name": "stdout",
     "output_type": "stream",
     "text": [
      "Percent Correct is 95.5\n"
     ]
    },
    {
     "data": {
      "text/html": [
       "<div>\n",
       "<style scoped>\n",
       "    .dataframe tbody tr th:only-of-type {\n",
       "        vertical-align: middle;\n",
       "    }\n",
       "\n",
       "    .dataframe tbody tr th {\n",
       "        vertical-align: top;\n",
       "    }\n",
       "\n",
       "    .dataframe thead th {\n",
       "        text-align: right;\n",
       "    }\n",
       "</style>\n",
       "<table border=\"1\" class=\"dataframe\">\n",
       "  <thead>\n",
       "    <tr style=\"text-align: right;\">\n",
       "      <th></th>\n",
       "      <th>0.0</th>\n",
       "      <th>1.0</th>\n",
       "    </tr>\n",
       "  </thead>\n",
       "  <tbody>\n",
       "    <tr>\n",
       "      <th>0.0</th>\n",
       "      <td>92.0</td>\n",
       "      <td>8.0</td>\n",
       "    </tr>\n",
       "    <tr>\n",
       "      <th>1.0</th>\n",
       "      <td>1.0</td>\n",
       "      <td>99.0</td>\n",
       "    </tr>\n",
       "  </tbody>\n",
       "</table>\n",
       "</div>"
      ],
      "text/plain": [
       "      0.0   1.0\n",
       "0.0  92.0   8.0\n",
       "1.0   1.0  99.0"
      ]
     },
     "execution_count": 10,
     "metadata": {},
     "output_type": "execute_result"
    }
   ],
   "source": [
    "C_test, P_test = nnet.use(Xtest)\n",
    "confusion_matrix(C_test, Ttest)"
   ]
  },
  {
   "cell_type": "code",
   "execution_count": 11,
   "metadata": {
    "ExecuteTime": {
     "end_time": "2020-11-06T23:17:57.684233Z",
     "start_time": "2020-11-06T23:15:40.260527Z"
    }
   },
   "outputs": [
    {
     "name": "stdout",
     "output_type": "stream",
     "text": [
      "Conv [(5, (3, 3), (1, 1))] FC []: Repetition 1 2 3 4 5 6 7 8 9 10 \n",
      "Conv [(5, (3, 3), (1, 1))] FC [5]: Repetition 1 2 3 4 5 6 7 8 9 10 \n",
      "Conv [(5, (3, 3), (1, 1))] FC [10, 10]: Repetition 1 2 3 4 5 6 7 8 9 10 \n",
      "Conv [(5, (3, 3), (1, 1)), (4, (4, 4), (2, 2))] FC []: Repetition 1 2 3 4 5 6 7 8 9 10 \n",
      "Conv [(5, (3, 3), (1, 1)), (4, (4, 4), (2, 2))] FC [5]: Repetition 1 2 3 4 5 6 7 8 9 10 \n",
      "Conv [(5, (3, 3), (1, 1)), (4, (4, 4), (2, 2))] FC [10, 10]: Repetition 1 2 3 4 5 6 7 8 9 10 \n"
     ]
    }
   ],
   "source": [
    "fractions = (0.6, 0.2, 0.2)\n",
    "n_conv_list = [ [(5, (3, 3), (1, 1))],\n",
    "                [(5, (3, 3), (1, 1)), (4, (4, 4), (2, 2))]\n",
    "              ]\n",
    "n_fc_list = [[], [5], [10, 10]]  # Notice the first one... []\n",
    "n_epochs = 200\n",
    "learning_rate = 0.01\n",
    "\n",
    "n_partitions = 10\n",
    "\n",
    "results = []\n",
    "for nconv in n_conv_list:\n",
    "    for nfc in n_fc_list:\n",
    "        results.extend(multiple_runs_convolutional(n_partitions, X, T, fractions, nconv, nfc, n_epochs, learning_rate))\n",
    "    \n",
    "resultsdf = pd.DataFrame(results, columns=('Structure', 'Partition', 'RMSE'))"
   ]
  },
  {
   "cell_type": "code",
   "execution_count": 12,
   "metadata": {
    "ExecuteTime": {
     "end_time": "2020-11-06T23:17:58.003471Z",
     "start_time": "2020-11-06T23:17:57.700351Z"
    }
   },
   "outputs": [
    {
     "data": {
      "image/png": "[encoded data removed]",
      "text/plain": [
       "<Figure size 1080x720 with 1 Axes>"
      ]
     },
     "metadata": {
      "needs_background": "light"
     },
     "output_type": "display_data"
    }
   ],
   "source": [
    "import seaborn as sns\n",
    "\n",
    "plt.figure(figsize=(15, 10))\n",
    "sns.violinplot(x='Structure', y='RMSE', hue='Partition', data=resultsdf)\n",
    "plt.xticks(rotation=10)\n",
    "\n",
    "for x in range(len(n_conv_list) * len(n_fc_list) - 1):\n",
    "    plt.axvline(x + 0.5, color='r', linestyle='--', alpha=0.5)"
   ]
  },
  {
   "cell_type": "markdown",
   "metadata": {},
   "source": [
    "# Application to Three Data Sets"
   ]
  },
  {
   "cell_type": "markdown",
   "metadata": {},
   "source": [
    "In the following experiments, you may try a variety of learning_rates, numbers of epochs, and network structures, but in the violin plot use one value for learning_rate, one value for number of epochs, and six values of network structure.\n",
    "\n",
    "Apply `multiple_runs_regression` for various network structures to the automobile data introduced in Lecture Notes 17.  Load it as follows."
   ]
  },
  {
   "cell_type": "code",
   "execution_count": 13,
   "metadata": {
    "ExecuteTime": {
     "end_time": "2020-11-06T23:17:58.474711Z",
     "start_time": "2020-11-06T23:17:58.004459Z"
    }
   },
   "outputs": [
    {
     "name": "stdout",
     "output_type": "stream",
     "text": [
      "Downloading auto-mpg.data from UCI ML Repository.\n",
      "Number rows in original data file 398.\n",
      "Number rows after dropping rows with missing values 392.\n"
     ]
    }
   ],
   "source": [
    "import pandas as pd\n",
    "import os\n",
    "\n",
    "if os.path.isfile('automobile.csv'):\n",
    "    print('Reading data from \\'automobile.csv\\'.')\n",
    "    automobile = pd.read_csv('automobile.csv')\n",
    "else:\n",
    "    print('Downloading auto-mpg.data from UCI ML Repository.')\n",
    "    automobile = pd.read_csv('https://archive.ics.uci.edu/ml/machine-learning-databases/auto-mpg/auto-mpg.data',\n",
    "                             header=None, delimiter='\\s+', na_values='?', \n",
    "                             usecols=range(8))\n",
    "    automobile.columns = ('mpg', 'cylinders', 'displacement', 'horsepower', 'weight',\n",
    "                          'acceleration', 'year', 'origin')\n",
    "\n",
    "    print(f'Number rows in original data file {len(automobile)}.')\n",
    "    automobile = automobile.dropna(axis=0)\n",
    "    print(f'Number rows after dropping rows with missing values {len(automobile)}.')\n",
    "    automobile.to_csv('automobile.csv', index=False)  # so row numbers are not written to file"
   ]
  },
  {
   "cell_type": "markdown",
   "metadata": {},
   "source": [
    "Apply `multiple_runs_classification` for various network structures to the following data set from a study in diabetes diagnosis."
   ]
  },
  {
   "cell_type": "code",
   "execution_count": 17,
   "metadata": {
    "ExecuteTime": {
     "end_time": "2020-11-06T23:19:25.533173Z",
     "start_time": "2020-11-06T23:19:25.099961Z"
    }
   },
   "outputs": [
    {
     "name": "stdout",
     "output_type": "stream",
     "text": [
      "Downloading diabetes_data_upload.csv from UCI ML Repository.\n"
     ]
    },
    {
     "data": {
      "text/plain": [
       "((520, 16), (520, 1))"
      ]
     },
     "execution_count": 17,
     "metadata": {},
     "output_type": "execute_result"
    }
   ],
   "source": [
    "if os.path.isfile('diabetes.csv'):\n",
    "    print('Reading data from \\'diabetes.csv\\'.')\n",
    "    diabetes = pd.read_csv('diabetes.csv')\n",
    "else:\n",
    "    print('Downloading diabetes_data_upload.csv from UCI ML Repository.')\n",
    "    diabetes = pd.read_csv('https://archive.ics.uci.edu/ml/machine-learning-databases/00529/diabetes_data_upload.csv')\n",
    "                        # usecols=range(1,14))\n",
    "    if False:\n",
    "        print(f'Number rows in original data file {len(diabetes)}.')\n",
    "        diabetes = diabetes.dropna(axis=0)\n",
    "        print(f'Number rows after dropping rows with missing values {len(diabetes)}.')\n",
    "    converter = dict(Yes=1, No=0, Female=1, Male=0, Positive=1, Negative=0)\n",
    "    diabetes = diabetes.applymap(lambda x: converter.get(x, x))\n",
    "    diabetes.to_csv('diabetes.csv', index=False)  # so row numbers are not written to file\n",
    "\n",
    "X = diabetes.iloc[:, :-1].values\n",
    "T = diabetes.iloc[:, -1:].values\n",
    "\n",
    "X.shape, T.shape"
   ]
  },
  {
   "cell_type": "markdown",
   "metadata": {},
   "source": [
    "Apply `multiple_runs_convolutional` for various network structures to the following small subset of the MNIST data that contains 500 samples of each digit."
   ]
  },
  {
   "cell_type": "code",
   "execution_count": 16,
   "metadata": {
    "ExecuteTime": {
     "end_time": "2020-11-06T23:18:58.347060Z",
     "start_time": "2020-11-06T23:18:58.060886Z"
    }
   },
   "outputs": [
    {
     "name": "stdout",
     "output_type": "stream",
     "text": [
      "Downloading small_mnist.npz from CS545 site.\n"
     ]
    },
    {
     "data": {
      "text/plain": [
       "((1000, 1, 28, 28), (1000, 1))"
      ]
     },
     "execution_count": 16,
     "metadata": {},
     "output_type": "execute_result"
    }
   ],
   "source": [
    "if os.path.isfile('small_mnist.npy'):\n",
    "    print('Reading data from \\'small_mnist.npz\\'.')\n",
    "    small_mnist = np.load('small_mnist.npz')\n",
    "else:\n",
    "    import shlex\n",
    "    import subprocess\n",
    "    print('Downloading small_mnist.npz from CS545 site.')\n",
    "    cmd = 'curl \"https://www.cs.colostate.edu/~anderson/cs545/notebooks/small_mnist.npz\" -o \"small_mnist.npz\"'\n",
    "    subprocess.call(shlex.split(cmd))\n",
    "    small_mnist = np.load('small_mnist.npz')\n",
    "\n",
    "\n",
    "X = small_mnist['X']\n",
    "X = X.reshape(-1, 1, 28, 28)\n",
    "T = small_mnist['T']\n",
    "\n",
    "X.shape, T.shape"
   ]
  },
  {
   "cell_type": "markdown",
   "metadata": {},
   "source": [
    "For each of the three applications, make violin plots.  For classification problems, also show the confusion matrices.  Describe the results you see with at least 10 sentences for each application, for a total of at least 30 sentences."
   ]
  },
  {
   "cell_type": "markdown",
   "metadata": {
    "ExecuteTime": {
     "end_time": "2020-10-16T20:44:33.927450Z",
     "start_time": "2020-10-16T20:44:33.925092Z"
    }
   },
   "source": [
    "# Grading\n",
    "\n",
    "Download [A5grader.tar](https://www.cs.colostate.edu/~anderson/cs545/notebooks/A5grader.tar), extract `A5grader.py` before running the following cell."
   ]
  },
  {
   "cell_type": "code",
   "execution_count": 18,
   "metadata": {
    "ExecuteTime": {
     "end_time": "2020-11-06T23:19:54.846041Z",
     "start_time": "2020-11-06T23:19:36.898950Z"
    }
   },
   "outputs": [
    {
     "name": "stdout",
     "output_type": "stream",
     "text": [
      "\n",
      "======================= Code Execution =======================\n",
      "\n",
      "Extracting python code from notebook named 'Anderson-A5.ipynb' and storing in notebookcode.py\n",
      "Removing all statements that are not function or class defs or import statements.\n",
      "CRITICAL ERROR: Function named 'rmse' is not defined\n",
      "  Check the spelling and capitalization of the function name.\n",
      "CRITICAL ERROR: Function named 'multiple_runs_classifiation' is not defined\n",
      "  Check the spelling and capitalization of the function name.\n",
      "CRITICAL ERROR: Function named 'train_for_best_validation' is not defined\n",
      "  Check the spelling and capitalization of the function name.\n",
      "\n",
      "## Testing constructor ####################################################################\n",
      "\n",
      "    nnet = NeuralNetworkClassifierConvolutionalTorch([1, 10, 10], \n",
      "                                                     [(2, (3, 3), (1, 1)), (3, (5, 5), (2, 2))],\n",
      "                                                     [30, 20], 2)\n",
      "\n",
      "    # Is isinstance(nnet, NeuralNetworkClassifierTorch)   True?\n",
      "\n",
      "\n",
      "--- 10/10 points. NeuralNetworkClassifierConvolutionalTorch is correctly of type NeuralNetworkClassifierTorch\n",
      "\n",
      "--- 10/10 points. nnet correctly has 5 pytorch layers.\n",
      "\n",
      "## Testing train ####################################################################\n",
      "\n",
      "    np.random.seed(42)\n",
      "    X = np.random.uniform(0, 1, size=(100, 2))\n",
      "    T = (np.abs(X[:, 0:1] - X[:, 1:2]) < 0.5).astype(int)\n",
      "    results = multiple_runs_classification(5, X, T, (0.4, 0.3, 0.3), [10], 100, 0.01)\n",
      "\n",
      "Structure [10]: Repetition 1 2 3 4 5 \n",
      "\n",
      "--- 10/10 points. results correctly has 15 elements\n",
      "\n",
      "--- 10/10 points. results[0] correctly has 3 elements\n",
      "\n",
      "--- 10/10 points. max of results accuracy is correctly 100%.\n",
      "\n",
      "## Testing train ####################################################################\n",
      "\n",
      "    np.random.seed(42)\n",
      "    X = np.random.uniform(0, 1, size=(100, 1, 10, 10))\n",
      "    T = (X[:, 0, :, 0].mean(-1) < X[:, 0, :, -1].mean(-1)).astype(int).reshape(-1, 1)\n",
      "    results = multiple_runs_convolutional(10, X, T, (0.4, 0.3, 0.3), [[10, (4, 4), (1, 1)]], [10], 1000, 0.01)\n",
      "    mean_train = np.mean([r[2] for r in results if r[1] == 'train'])\n",
      "\n",
      "Conv [[10, (4, 4), (1, 1)]] FC [10]: Repetition 1 2 3 4 5 6 7 8 9 10 \n",
      "\n",
      "--- 20/20 points. Mean of train accuracy is correct greater than 80%.\n",
      "\n",
      "======================================================================\n",
      "A5 Execution Grade is 70 / 70\n",
      "======================================================================\n",
      "\n",
      "__ / 5 points. Violin plots for each of the three datasets.\n",
      "\n",
      "__ / 10 points. Confusion matrices for the two classification problems.\n",
      "                to MNIST data.\n",
      "\n",
      "__ / 15 points. Total of at least 30 sentences discussion results of all three datasets.\n",
      "\n",
      "\n",
      "======================================================================\n",
      "A5 Results and Discussion Grade is ___ / 30\n",
      "======================================================================\n",
      "\n",
      "======================================================================\n",
      "A5 FINAL GRADE is  _  / 100\n",
      "======================================================================\n",
      "Extra Credit: Earn one point of extra credit for adding code to one of your NeuralNetwork...Torch classes and training and using it on a GPU for one data set.      \n",
      "\n",
      "A5 EXTRA CREDIT is 0 / 1\n"
     ]
    }
   ],
   "source": [
    "%run -i A5grader.py"
   ]
  },
  {
   "cell_type": "markdown",
   "metadata": {},
   "source": [
    "# Extra Credit\n",
    "\n",
    "Try to train on a GPU for at least one of the datasets by calling one of the `multiple_runs_...` functions.  A simple guide to changes you will need in your code is available at [this site](https://towardsdatascience.com/pytorch-switching-to-the-gpu-a7c0b21e8a99).  You may run on one of the CS department's workstations that have GPUs.\n",
    "\n",
    "Discuss the execution time on just the CPU and on a GPU.  "
   ]
  },
  {
   "cell_type": "code",
   "execution_count": null,
   "metadata": {},
   "outputs": [],
   "source": []
  }
 ],
 "metadata": {
  "kernelspec": {
   "display_name": "Python 3",
   "language": "python",
   "name": "python3"
  },
  "language_info": {
   "codemirror_mode": {
    "name": "ipython",
    "version": 3
   },
   "file_extension": ".py",
   "mimetype": "text/x-python",
   "name": "python",
   "nbconvert_exporter": "python",
   "pygments_lexer": "ipython3",
   "version": "3.8.3"
  },
  "toc": {
   "base_numbering": 1,
   "nav_menu": {},
   "number_sections": true,
   "sideBar": true,
   "skip_h1_title": false,
   "title_cell": "Table of Contents",
   "title_sidebar": "Contents",
   "toc_cell": true,
   "toc_position": {},
   "toc_section_display": true,
   "toc_window_display": false
  }
 },
 "nbformat": 4,
 "nbformat_minor": 4
}
