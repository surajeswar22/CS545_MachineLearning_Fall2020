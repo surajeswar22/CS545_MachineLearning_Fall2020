{
 "cells": [
  {
   "cell_type": "markdown",
   "metadata": {},
   "source": [
    "<font size=5>Reinforcement Learning to Control a Robot</font>"
   ]
  },
  {
   "cell_type": "markdown",
   "metadata": {},
   "source": [
    "In this assignment, you will play with a simulation of a two-dimensional robot arm with multiple links and joints. You will train a neural network to approximate the Q function.\n",
    "\n",
    "The state of the arm is just the angles of each joint.  To remove the huge difference between joint angles of 359 degrees and 1 degree as a joint moves, we will represent each joint angle with two values, the sine and cosine of the angle, as the state input to the neural network. Valid actions on each step will be $-0.1$, $0$, and $+0.1$ applied to each joint."
   ]
  },
  {
   "cell_type": "markdown",
   "metadata": {},
   "source": [
    "# `Robot` class"
   ]
  },
  {
   "cell_type": "markdown",
   "metadata": {},
   "source": [
    "Here is an implementation of the robot simulation."
   ]
  },
  {
   "cell_type": "code",
   "execution_count": 18,
   "metadata": {
    "ExecuteTime": {
     "end_time": "2020-11-19T19:17:12.524155Z",
     "start_time": "2020-11-19T19:17:12.521476Z"
    }
   },
   "outputs": [],
   "source": [
    "import numpy as np\n",
    "import copy\n",
    "import matplotlib.pyplot as plt\n",
    "import sys\n",
    "import itertools  # for product (cross product)\n",
    "from math import pi\n",
    "from IPython.display import display, clear_output"
   ]
  },
  {
   "cell_type": "markdown",
   "metadata": {},
   "source": [
    "Now import your `NeuralNetwork` regression class that uses `numpy` and has the `scg` optimizer available."
   ]
  },
  {
   "cell_type": "code",
   "execution_count": 19,
   "metadata": {
    "ExecuteTime": {
     "end_time": "2020-11-19T19:17:12.535621Z",
     "start_time": "2020-11-19T19:17:12.525540Z"
    }
   },
   "outputs": [],
   "source": [
    "import A3mysolution as nn  # where you implement the NeuralNetwork class"
   ]
  },
  {
   "cell_type": "code",
   "execution_count": 20,
   "metadata": {
    "ExecuteTime": {
     "end_time": "2020-11-19T19:17:12.546547Z",
     "start_time": "2020-11-19T19:17:12.537474Z"
    }
   },
   "outputs": [],
   "source": [
    "class Robot():\n",
    "\n",
    "    def __init__(self, link_lengths):\n",
    "        self.n_links = len(link_lengths)\n",
    "        self.record_angles = False\n",
    "        self.angles = []\n",
    "        self.link_lengths = np.array(link_lengths)\n",
    "        self.joint_angles = np.zeros(self.n_links)\n",
    "        self.points = [[10, 10] for _ in range(self.n_links + 1)]\n",
    "        self.lim = sum(link_lengths)\n",
    "        self.update_points()\n",
    "        self.goal = None\n",
    "\n",
    "    def set_goal(self, g):\n",
    "        self.goal = g\n",
    "\n",
    "    def dist_to_goal(self):\n",
    "        return np.sqrt(np.sum((self.goal - self.end_effector)**2))\n",
    "    \n",
    "    def update_joints(self, joint_angles):\n",
    "        self.joint_angles = joint_angles\n",
    "        self.update_points()\n",
    "\n",
    "    def add_to_joints(self, joint_angle_deltas):\n",
    "        self.joint_angles += joint_angle_deltas\n",
    "        too_high = self.joint_angles > 2 * pi\n",
    "        self.joint_angles[too_high] = self.joint_angles[too_high] - 2 * pi\n",
    "        too_low = self.joint_angles < 0\n",
    "        self.joint_angles[too_low] = self.joint_angles[too_low] + 2 * pi\n",
    "        if self.record_angles:\n",
    "            self.angles.append(self.joint_angles * 180 / pi)\n",
    "        self.update_points()\n",
    "\n",
    "    def update_points(self):\n",
    "        for i in range(1, self.n_links + 1):\n",
    "            self.points[i][0] = (self.points[i - 1][0]\n",
    "                                 + self.link_lengths[i - 1] * np.cos(np.sum(self.joint_angles[:i])))\n",
    "            self.points[i][1] = (self.points[i - 1][1] +\n",
    "                                 self.link_lengths[i - 1] * np.sin(np.sum(self.joint_angles[:i])))\n",
    "        self.end_effector = np.array(self.points[self.n_links]).T\n",
    "\n",
    "    def get_angles(self):\n",
    "        return self.joint_angles\n",
    "    \n",
    "\n",
    "    def plot(self):\n",
    "        for i in range(self.n_links + 1):\n",
    "            if i is not self.n_links:\n",
    "                plt.plot([self.points[i][0], self.points[i + 1][0]],\n",
    "                         [self.points[i][1], self.points[i + 1][1]], 'r-')\n",
    "            plt.plot(self.points[i][0], self.points[i][1], 'k.')\n",
    "        plt.axis('off')\n",
    "        plt.axis('square')\n",
    "        plt.xlim([-1, 21])\n",
    "        plt.ylim([-1, 21])\n",
    "\n",
    "    def animate(self, n_steps, Qnet=None):\n",
    "        fig = plt.figure(figsize=(8, 8))\n",
    "        \n",
    "        for i in range(n_steps):\n",
    "            fig.clf()\n",
    "            plt.scatter(self.goal[0], self.goal[1], s=80)\n",
    "            if Qnet:\n",
    "                action, Qvalue = epsilon_greedy(self, Qnet, valid_actions, epsilon=0)\n",
    "            else:\n",
    "                action = [0.1] * self.n_links\n",
    "            self.add_to_joints(action)\n",
    "            self.plot()\n",
    "            \n",
    "            clear_output(wait=True)\n",
    "            display(fig)\n",
    "            \n",
    "        clear_output(wait=True)"
   ]
  },
  {
   "cell_type": "markdown",
   "metadata": {},
   "source": [
    "To use this class, first instantiate a robot by specifying the number of links and the lengths of each link as a list.  Imagine the end of the last link of the robot has a gripper. Set the goal location for the gripper by calling `robot.set_goal()`.  \n",
    "\n",
    "Then you can animate the robot for some number of steps."
   ]
  },
  {
   "cell_type": "code",
   "execution_count": 21,
   "metadata": {
    "ExecuteTime": {
     "end_time": "2020-11-19T19:17:17.913039Z",
     "start_time": "2020-11-19T19:17:12.547724Z"
    }
   },
   "outputs": [
    {
     "data": {
      "image/png": "[encoded data removed]",
      "text/plain": [
       "<Figure size 576x576 with 1 Axes>"
      ]
     },
     "metadata": {
      "needs_background": "light"
     },
     "output_type": "display_data"
    }
   ],
   "source": [
    "robot = Robot([4, 3])\n",
    "robot.set_goal([2, 2])\n",
    "robot.animate(100)"
   ]
  },
  {
   "cell_type": "markdown",
   "metadata": {},
   "source": [
    "# Reinforcement Learning Problem for Controlling the Robot"
   ]
  },
  {
   "cell_type": "markdown",
   "metadata": {},
   "source": [
    "To define the reinforcement learning problem for controlling this robot, and trying to move the gripper as close to the goal as you can, we need to define the three main functions that define a reinforcement learning problem.  These are pretty easy with the functions available to us in the `Robot` class.  We will also need a function to represent the joint angles as sines and cosines."
   ]
  },
  {
   "cell_type": "code",
   "execution_count": 22,
   "metadata": {
    "ExecuteTime": {
     "end_time": "2020-11-19T19:17:17.916772Z",
     "start_time": "2020-11-19T19:17:17.913915Z"
    }
   },
   "outputs": [],
   "source": [
    "def angles_to_sin_cos(angles):\n",
    "    return np.hstack((np.sin(angles), np.cos(angles)))\n",
    "\n",
    "\n",
    "def initial_state(robot):\n",
    "    robot.update_joints(np.random.uniform(-2 * pi, 2 * pi, size=(robot.n_links)))\n",
    "    angles = robot.get_angles()\n",
    "    state = angles_to_sin_cos(angles)\n",
    "    return state\n",
    "\n",
    "\n",
    "def next_state(robot, action):\n",
    "    robot.add_to_joints(action)\n",
    "    angles = robot.get_angles()\n",
    "    state = angles_to_sin_cos(angles)\n",
    "    return state\n",
    "\n",
    "\n",
    "def reinforcement(robot):\n",
    "    '''Objective is to move gripper to the goal location as quickly as possible.'''\n",
    "    dist_to_goal = robot.dist_to_goal()\n",
    "    return dist_to_goal"
   ]
  },
  {
   "cell_type": "code",
   "execution_count": 23,
   "metadata": {
    "ExecuteTime": {
     "end_time": "2020-11-19T19:17:17.928289Z",
     "start_time": "2020-11-19T19:17:17.917648Z"
    }
   },
   "outputs": [
    {
     "data": {
      "text/plain": [
       "array([ 0.00000000e+00,  7.07106781e-01,  1.00000000e+00,  1.22464680e-16,\n",
       "       -1.22464680e-16,  1.00000000e+00,  7.07106781e-01,  6.12323400e-17,\n",
       "       -1.00000000e+00, -1.00000000e+00])"
      ]
     },
     "execution_count": 23,
     "metadata": {},
     "output_type": "execute_result"
    }
   ],
   "source": [
    "angles_to_sin_cos([0, pi/4, pi/2, pi, -pi])"
   ]
  },
  {
   "cell_type": "code",
   "execution_count": 24,
   "metadata": {
    "ExecuteTime": {
     "end_time": "2020-11-19T19:17:17.934150Z",
     "start_time": "2020-11-19T19:17:17.929860Z"
    }
   },
   "outputs": [
    {
     "data": {
      "text/plain": [
       "array([-0.6681945 ,  0.45250609, -0.74398663, -0.89176131])"
      ]
     },
     "execution_count": 24,
     "metadata": {},
     "output_type": "execute_result"
    }
   ],
   "source": [
    "initial_state(robot)"
   ]
  },
  {
   "cell_type": "code",
   "execution_count": 25,
   "metadata": {
    "ExecuteTime": {
     "end_time": "2020-11-19T19:17:17.940446Z",
     "start_time": "2020-11-19T19:17:17.935035Z"
    }
   },
   "outputs": [
    {
     "data": {
      "text/plain": [
       "array([ 0.26501613, -0.50590119, -0.96424398, -0.86259144])"
      ]
     },
     "execution_count": 25,
     "metadata": {},
     "output_type": "execute_result"
    }
   ],
   "source": [
    "next_state(robot, [-1, 1])"
   ]
  },
  {
   "cell_type": "code",
   "execution_count": 26,
   "metadata": {
    "ExecuteTime": {
     "end_time": "2020-11-19T19:17:17.945735Z",
     "start_time": "2020-11-19T19:17:17.941437Z"
    }
   },
   "outputs": [
    {
     "data": {
      "text/plain": [
       "12.097469335955774"
      ]
     },
     "execution_count": 26,
     "metadata": {},
     "output_type": "execute_result"
    }
   ],
   "source": [
    "reinforcement(robot)"
   ]
  },
  {
   "cell_type": "markdown",
   "metadata": {},
   "source": [
    "Now we need our two workhorse functions, `epsilon_greedy` and `make_samples`."
   ]
  },
  {
   "cell_type": "code",
   "execution_count": 27,
   "metadata": {
    "ExecuteTime": {
     "end_time": "2020-11-19T19:17:17.950790Z",
     "start_time": "2020-11-19T19:17:17.946544Z"
    }
   },
   "outputs": [],
   "source": [
    "def epsilon_greedy(robot, Qnet, valid_actions, epsilon):\n",
    "    state = angles_to_sin_cos(robot.get_angles())\n",
    "    \n",
    "    if np.random.uniform() < epsilon:\n",
    "        \n",
    "        # Random Move\n",
    "        actioni = np.random.randint(valid_actions.shape[0])\n",
    "        action = valid_actions[actioni]\n",
    "        \n",
    "    else:\n",
    "        # Greedy Move\n",
    "        \n",
    "        Qs = [Qnet.use(np.hstack((state, a)).reshape((1, -1))) for a in valid_actions]\n",
    "        ai = np.argmin(Qs)\n",
    "        action = valid_actions[ai]\n",
    "        \n",
    "    Q = Qnet.use(np.hstack((state, action)).reshape((1, -1)))\n",
    "    \n",
    "    return action, Q"
   ]
  },
  {
   "cell_type": "code",
   "execution_count": 28,
   "metadata": {
    "ExecuteTime": {
     "end_time": "2020-11-19T19:17:17.959153Z",
     "start_time": "2020-11-19T19:17:17.951616Z"
    }
   },
   "outputs": [],
   "source": [
    "def make_samples(robot, Qnet, initial_state_f, next_state_f, reinforcement_f,\n",
    "                 valid_actions, n_samples, epsilon):\n",
    "\n",
    "    X = np.zeros((n_samples, Qnet.n_inputs))\n",
    "    R = np.zeros((n_samples, 1))\n",
    "    Qn = np.zeros((n_samples, 1))\n",
    "\n",
    "    state = initial_state_f(robot)\n",
    "    state = next_state_f(robot, [0] * robot.n_links)  # 0 action for all joints\n",
    "    action, _ = epsilon_greedy(robot, Qnet, valid_actions, epsilon)\n",
    "\n",
    "    # Collect data from numSamples steps\n",
    "    for step in range(n_samples):\n",
    "        \n",
    "        next_state = next_state_f(robot, action)\n",
    "        r = reinforcement_f(robot)\n",
    "        next_action, next_Q = epsilon_greedy(robot, Qnet, valid_actions, epsilon)\n",
    "        \n",
    "        X[step, :] = np.hstack((state, action))\n",
    "        R[step, 0] = r\n",
    "        Qn[step, 0] = next_Q\n",
    "        \n",
    "        # Advance one time step\n",
    "        state, action = next_state, next_action\n",
    "\n",
    "    return (X, R, Qn)"
   ]
  },
  {
   "cell_type": "markdown",
   "metadata": {},
   "source": [
    "# Reinforcement Learning Training Algorithm"
   ]
  },
  {
   "cell_type": "code",
   "execution_count": 29,
   "metadata": {
    "ExecuteTime": {
     "end_time": "2020-11-19T19:17:17.967001Z",
     "start_time": "2020-11-19T19:17:17.960524Z"
    }
   },
   "outputs": [],
   "source": [
    "def setup_standardization(Qnet, Xmeans, Xstds, Tmeans, Tstds):\n",
    "    Qnet.stand_params = {}\n",
    "    Qnet.stand_params['Xmeans'] = np.array(Xmeans)\n",
    "    Qnet.stand_params['Xstds'] = np.array(Xstds)\n",
    "    Qnet.stand_params['Tmeans'] = np.array(Tmeans)\n",
    "    Qnet.stand_params['Tstds'] = np.array(Tstds)\n",
    "\n",
    "\n",
    "def train(robot, n_hiddens_list, valid_actions, n_trials, n_steps_per_trial, n_scg_iterations,\n",
    "          final_epsilon, gamma=0.8):\n",
    "\n",
    "    epsilon_decay = np.exp(np.log(final_epsilon) / (n_trials))  # to produce this final value\n",
    "\n",
    "    n_inputs = robot.n_links * 2 + robot.n_links\n",
    "    \n",
    "    Qnet = nn.NeuralNetwork(n_inputs, n_hiddens_list, 1)\n",
    "\n",
    "    means_state = [0] * robot.n_links * 2\n",
    "    means_actions = [0] * robot.n_links\n",
    "    stds_states = [0.5] * robot.n_links * 2\n",
    "    stds_actions = [1.0] * robot.n_links\n",
    "    setup_standardization(Qnet, means_state + means_actions, stds_states + stds_actions, [0], [1])\n",
    "\n",
    "    epsilon = 1         # initial epsilon value\n",
    "    epsilon_trace = []\n",
    "    r_mean_trace = []\n",
    "    r_trace = []\n",
    "    for trial in range(n_trials):\n",
    "\n",
    "        # Collect n_steps_per_trial samples\n",
    "        \n",
    "        . . .\n",
    "        \n",
    "        # Train Qnet on these samples for n_scg_iterations\n",
    "        \n",
    "        . . .\n",
    "        \n",
    "        # Update the three traces\n",
    "        \n",
    "        . . .\n",
    "        \n",
    "        # Decay epsilon\n",
    "        \n",
    "        . . .\n",
    "        \n",
    "        \n",
    "        if trial + 1 == n_trials or (trial + 1) % (n_trials // 10) == 0:\n",
    "            print(f'Trial {trial+1}: Mean R {r_mean_trace[-1]:.2f}')\n",
    "             \n",
    "    return Qnet, r_mean_trace, r_trace, epsilon_trace"
   ]
  },
  {
   "cell_type": "code",
   "execution_count": 30,
   "metadata": {
    "ExecuteTime": {
     "end_time": "2020-11-19T19:17:17.974171Z",
     "start_time": "2020-11-19T19:17:17.967829Z"
    }
   },
   "outputs": [],
   "source": [
    "single_joint_actions = [-0.1, 0, 0.1]\n",
    "valid_actions =  np.array(list(itertools.product(single_joint_actions, repeat=robot.n_links)))"
   ]
  },
  {
   "cell_type": "code",
   "execution_count": 31,
   "metadata": {
    "ExecuteTime": {
     "end_time": "2020-11-19T19:17:17.979382Z",
     "start_time": "2020-11-19T19:17:17.975110Z"
    }
   },
   "outputs": [],
   "source": [
    "robot = Robot([3., 3.])\n",
    "robot.set_goal([5., 5.])"
   ]
  },
  {
   "cell_type": "code",
   "execution_count": 32,
   "metadata": {
    "ExecuteTime": {
     "end_time": "2020-11-19T19:18:15.150699Z",
     "start_time": "2020-11-19T19:17:17.980310Z"
    }
   },
   "outputs": [
    {
     "name": "stdout",
     "output_type": "stream",
     "text": [
      "Trial 20: Mean R 7.13\n",
      "Trial 40: Mean R 11.47\n",
      "Trial 60: Mean R 3.84\n",
      "Trial 80: Mean R 4.39\n",
      "Trial 100: Mean R 3.60\n",
      "Trial 120: Mean R 2.35\n",
      "Trial 140: Mean R 2.12\n",
      "Trial 160: Mean R 1.91\n",
      "Trial 180: Mean R 4.99\n",
      "Trial 200: Mean R 2.07\n"
     ]
    }
   ],
   "source": [
    "n_hiddens_list = [50, 10]\n",
    "n_trials = 200\n",
    "n_steps_per_trial = 1000\n",
    "n_scg_iterations = 4\n",
    "final_epsilon = 0.01\n",
    "gamma = 0.9\n",
    "\n",
    "Qnet, r_mean_trace, r_trace, epsilon_trace = train(robot, n_hiddens_list, valid_actions, n_trials,\n",
    "                                                   n_steps_per_trial, n_scg_iterations,\n",
    "                                                   final_epsilon, gamma)"
   ]
  },
  {
   "cell_type": "code",
   "execution_count": 33,
   "metadata": {
    "ExecuteTime": {
     "end_time": "2020-11-19T19:18:15.440411Z",
     "start_time": "2020-11-19T19:18:15.151728Z"
    }
   },
   "outputs": [
    {
     "data": {
      "text/plain": [
       "Text(0, 0.5, 'Epsilon')"
      ]
     },
     "execution_count": 33,
     "metadata": {},
     "output_type": "execute_result"
    },
    {
     "data": {
      "image/png": "[encoded data removed]",
      "text/plain": [
       "<Figure size 720x720 with 3 Axes>"
      ]
     },
     "metadata": {
      "needs_background": "light"
     },
     "output_type": "display_data"
    }
   ],
   "source": [
    "plt.figure(figsize=(10, 10))\n",
    "plt.clf()\n",
    "plt.subplot(3, 1, 1)\n",
    "plt.plot(r_mean_trace)\n",
    "plt.xlabel('Trial')\n",
    "plt.ylabel('Mean R per Trial')\n",
    "\n",
    "plt.subplot(3, 1, 2)\n",
    "plt.plot(r_trace)\n",
    "plt.xlabel('Step')\n",
    "plt.ylabel('Value of $r_t$')\n",
    "\n",
    "plt.subplot(3, 1, 3)\n",
    "plt.plot(epsilon_trace)\n",
    "plt.xlabel('Trial')\n",
    "plt.ylabel('Epsilon')"
   ]
  },
  {
   "cell_type": "code",
   "execution_count": 35,
   "metadata": {
    "ExecuteTime": {
     "end_time": "2020-11-19T19:20:45.384889Z",
     "start_time": "2020-11-19T19:20:18.425035Z"
    }
   },
   "outputs": [
    {
     "data": {
      "image/png": "[encoded data removed]",
      "text/plain": [
       "<Figure size 576x576 with 1 Axes>"
      ]
     },
     "metadata": {
      "needs_background": "light"
     },
     "output_type": "display_data"
    },
    {
     "data": {
      "image/png": "[encoded data removed]",
      "text/plain": [
       "<Figure size 576x576 with 1 Axes>"
      ]
     },
     "metadata": {
      "needs_background": "light"
     },
     "output_type": "display_data"
    },
    {
     "data": {
      "image/png": "[encoded data removed]",
      "text/plain": [
       "<Figure size 576x576 with 1 Axes>"
      ]
     },
     "metadata": {
      "needs_background": "light"
     },
     "output_type": "display_data"
    },
    {
     "data": {
      "image/png": "[encoded data removed]",
      "text/plain": [
       "<Figure size 576x576 with 1 Axes>"
      ]
     },
     "metadata": {
      "needs_background": "light"
     },
     "output_type": "display_data"
    },
    {
     "data": {
      "image/png": "[encoded data removed]",
      "text/plain": [
       "<Figure size 576x576 with 1 Axes>"
      ]
     },
     "metadata": {
      "needs_background": "light"
     },
     "output_type": "display_data"
    }
   ],
   "source": [
    "for i in range(5):\n",
    "    initial_state(robot)\n",
    "    robot.animate(100, Qnet)"
   ]
  },
  {
   "cell_type": "markdown",
   "metadata": {},
   "source": [
    "# Required Experiments\n",
    "\n",
    "## Good parameter values\n",
    "\n",
    "Find values for parameters `n_hiddens_list`, `n_trials`, `n_steps_per_trial`, `n_scg_iterations`, and `gamma` that result in Mean R per Trial plot that shows fairly steady decrease to value close to 0. "
   ]
  },
  {
   "cell_type": "markdown",
   "metadata": {},
   "source": [
    "## Create robot with four links of lengths, 4, 3, 3,  and 2.\n",
    "\n",
    "Again, find good values for the parameters. "
   ]
  },
  {
   "cell_type": "markdown",
   "metadata": {},
   "source": [
    "## Increase number of valid actions\n",
    "\n",
    "We have been using just three different actions for each joint, `[-0.1, 0, 0.1]`.  Allow more precision in the control by changing this list of valid actions for each joint to `[-0.1, -0.05, 0, 0.05, 0.1]`.\n",
    "\n",
    "As before, find good values for the parameters."
   ]
  },
  {
   "cell_type": "markdown",
   "metadata": {},
   "source": [
    "# Extra Credit\n",
    "\n",
    "As discussed in class for the marble control, make modifications to allow a variable goal.  Add the goal coordinates to the state input to the Qnet.  Demonstrate success by plotting `r_mean_trace` for four different, fixed, goals."
   ]
  },
  {
   "cell_type": "code",
   "execution_count": null,
   "metadata": {},
   "outputs": [],
   "source": []
  }
 ],
 "metadata": {
  "kernelspec": {
   "display_name": "Python 3",
   "language": "python",
   "name": "python3"
  },
  "language_info": {
   "codemirror_mode": {
    "name": "ipython",
    "version": 3
   },
   "file_extension": ".py",
   "mimetype": "text/x-python",
   "name": "python",
   "nbconvert_exporter": "python",
   "pygments_lexer": "ipython3",
   "version": "3.8.3"
  },
  "toc": {
   "base_numbering": 1,
   "nav_menu": {},
   "number_sections": true,
   "sideBar": true,
   "skip_h1_title": false,
   "title_cell": "Table of Contents",
   "title_sidebar": "Contents",
   "toc_cell": false,
   "toc_position": {},
   "toc_section_display": true,
   "toc_window_display": false
  }
 },
 "nbformat": 4,
 "nbformat_minor": 4
}
